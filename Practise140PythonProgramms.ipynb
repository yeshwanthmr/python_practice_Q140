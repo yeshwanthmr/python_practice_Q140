{
 "cells": [
  {
   "cell_type": "code",
   "execution_count": 1,
   "id": "80f99ae5-b9a1-4405-bf2f-4db41b92cfe8",
   "metadata": {},
   "outputs": [
    {
     "name": "stdout",
     "output_type": "stream",
     "text": [
      "Hello Python\n"
     ]
    }
   ],
   "source": [
    "#1Q print Hello Python\n",
    "print(\"Hello Python\")"
   ]
  },
  {
   "cell_type": "code",
   "execution_count": 2,
   "id": "c19df461-90a4-42d8-95cb-c1b701792835",
   "metadata": {},
   "outputs": [
    {
     "name": "stdin",
     "output_type": "stream",
     "text": [
      "Enter a num1: 10\n",
      "Enter a num2: 20\n"
     ]
    },
    {
     "name": "stdout",
     "output_type": "stream",
     "text": [
      "Addition of 10 and 20 is 30\n",
      "Division of 10 and 20 is 0.5\n"
     ]
    }
   ],
   "source": [
    "#2Q Arithmetic operations addition and division\n",
    "#addition\n",
    "num1 = eval(input(\"Enter a num1:\"))\n",
    "num2 = eval(input(\"Enter a num2:\"))\n",
    "sum_result = num1 + num2\n",
    "print(\"Addition of {} and {} is {}\".format(num1,num2,sum_result))\n",
    "#division\n",
    "div_result = num1/num2\n",
    "print(\"Division of {} and {} is {}\".format(num1,num2,div_result))"
   ]
  },
  {
   "cell_type": "code",
   "execution_count": 3,
   "id": "69fbf167-83cf-4bbb-8fec-7432c1fb4140",
   "metadata": {},
   "outputs": [
    {
     "name": "stdin",
     "output_type": "stream",
     "text": [
      "Enter a base: 12\n",
      "Enter a height: 12\n"
     ]
    },
    {
     "name": "stdout",
     "output_type": "stream",
     "text": [
      "Area of traingle 72.0\n"
     ]
    }
   ],
   "source": [
    "#3Q Area of triangle\n",
    "base =  eval(input(\"Enter a base:\"))\n",
    "height = eval(input(\"Enter a height:\"))\n",
    "area_of_triangle = 1/2 * (base*height)  #we can use (0.5 also)\n",
    "print(\"Area of traingle\",area_of_triangle)"
   ]
  },
  {
   "cell_type": "code",
   "execution_count": 4,
   "id": "17507d8b-b7a0-437f-a05e-329f420170bb",
   "metadata": {},
   "outputs": [
    {
     "name": "stdin",
     "output_type": "stream",
     "text": [
      "Enter a num1 10\n",
      "Enter a num2 10\n"
     ]
    },
    {
     "name": "stdout",
     "output_type": "stream",
     "text": [
      "Before Swapping 10 and 10\n",
      "After Swapping 10 and 10\n"
     ]
    },
    {
     "name": "stdin",
     "output_type": "stream",
     "text": [
      "Enter  a 3\n",
      "Enter  b 6\n"
     ]
    },
    {
     "name": "stdout",
     "output_type": "stream",
     "text": [
      "Method 2 Swapping of 6 and 3\n"
     ]
    }
   ],
   "source": [
    "#4Q Swap two variables\n",
    "num1 = eval(input(\"Enter a num1\"))\n",
    "num2 = eval(input(\"Enter a num2\"))\n",
    "#method 1\n",
    "print(\"Before Swapping {} and {}\".format(num1,num2))\n",
    "temp = num1\n",
    "num1 = num2\n",
    "num2 = temp\n",
    "print(\"After Swapping {} and {}\".format(num1,num2))\n",
    "#method 2\n",
    "\n",
    "a = eval(input(\"Enter  a\"))\n",
    "b = eval(input(\"Enter  b\"))\n",
    "a= a+b\n",
    "b=a-b\n",
    "a=a-b\n",
    "print(\"Method 2 Swapping of {} and {}\".format(a,b))"
   ]
  },
  {
   "cell_type": "code",
   "execution_count": 5,
   "id": "2b807438-c45c-4f45-b7a1-d4722fb0eb70",
   "metadata": {},
   "outputs": [
    {
     "name": "stdout",
     "output_type": "stream",
     "text": [
      "Random Number: 86\n",
      "Random number is 3\n"
     ]
    }
   ],
   "source": [
    "#5Q Generate a random number\n",
    "import random\n",
    "print(f\"Random Number: {random.randint(1,100)}\")\n",
    "num1 = random.randint(1,10)\n",
    "print(\"Random number is {}\".format(num1))"
   ]
  },
  {
   "cell_type": "code",
   "execution_count": 6,
   "id": "62122ad8-9b0b-485a-ae45-80488d7d6784",
   "metadata": {},
   "outputs": [
    {
     "name": "stdin",
     "output_type": "stream",
     "text": [
      "Enter a distance in kilometers: 12\n"
     ]
    },
    {
     "name": "stdout",
     "output_type": "stream",
     "text": [
      "conversion from kilometers to miles is 7.452\n"
     ]
    }
   ],
   "source": [
    "#6Q convert kilometers to miles\n",
    "kilo_meters = eval(input(\"Enter a distance in kilometers:\"))\n",
    "conversion_factor = 0.621\n",
    "miles = kilo_meters * conversion_factor\n",
    "print(\"conversion from kilometers to miles is {}\".format(miles))"
   ]
  },
  {
   "cell_type": "code",
   "execution_count": 7,
   "id": "8d40ac4a-1b59-4620-b740-5d7d911fb95f",
   "metadata": {},
   "outputs": [
    {
     "name": "stdin",
     "output_type": "stream",
     "text": [
      "Enter a celsius in degrees: 0\n"
     ]
    },
    {
     "name": "stdout",
     "output_type": "stream",
     "text": [
      "conversion from celsius to fahrenheit in degrees:is 32.0 \n"
     ]
    }
   ],
   "source": [
    "#7Q convert celsius to fahrenheit\n",
    "celsius_degree = eval(input(\"Enter a celsius in degrees:\"))\n",
    "fahrenheit = (celsius_degree * 9/5) + 32\n",
    "print(\"conversion from celsius to fahrenheit in degrees:is {} \".format(fahrenheit))"
   ]
  },
  {
   "cell_type": "code",
   "execution_count": 8,
   "id": "bbf71a8d-842d-4d93-9b6c-e3c4d1cf317c",
   "metadata": {},
   "outputs": [
    {
     "name": "stdin",
     "output_type": "stream",
     "text": [
      "Enter a year 2000\n",
      "Enter a month 9\n"
     ]
    },
    {
     "name": "stdout",
     "output_type": "stream",
     "text": [
      "   September 2000\n",
      "Mo Tu We Th Fr Sa Su\n",
      "             1  2  3\n",
      " 4  5  6  7  8  9 10\n",
      "11 12 13 14 15 16 17\n",
      "18 19 20 21 22 23 24\n",
      "25 26 27 28 29 30\n",
      "\n"
     ]
    }
   ],
   "source": [
    "#8Q display calendar\n",
    "import calendar\n",
    "year =int(input(\"Enter a year\"))\n",
    "month = int(input(\"Enter a month\"))\n",
    "cal = calendar.month(year,month)\n",
    "print(cal)"
   ]
  },
  {
   "cell_type": "code",
   "execution_count": 10,
   "id": "a51b0987-9b96-4d2f-ae18-59eb48f6b172",
   "metadata": {},
   "outputs": [
    {
     "name": "stdin",
     "output_type": "stream",
     "text": [
      "Enter coefficient a: 1\n",
      "Enter coefficient b: 5\n",
      "Enter coefficient c: 6\n"
     ]
    },
    {
     "name": "stdout",
     "output_type": "stream",
     "text": [
      "The solution are -3.0 and -2.0\n"
     ]
    }
   ],
   "source": [
    "#9Q to solve quadratic equation\n",
    "import math\n",
    "a =eval(input(\"Enter coefficient a:\"))\n",
    "b=eval(input(\"Enter coefficient b:\"))\n",
    "c =eval(input(\"Enter coefficient c:\"))\n",
    "discriminant = (b**2 - 4 *a*c)\n",
    "sol1 = (-b + math.sqrt(discriminant))/(2*a)\n",
    "sol2 = (-b - math.sqrt(discriminant))/(2*a)\n",
    "print(\"The solution are {} and {}\".format(sol2,sol1))"
   ]
  },
  {
   "cell_type": "code",
   "execution_count": 11,
   "id": "17dae602-1af3-4767-8668-4f38e7f2c5ad",
   "metadata": {},
   "outputs": [
    {
     "name": "stdin",
     "output_type": "stream",
     "text": [
      "Enter a num1: 0\n",
      "Enter a num2: 1\n"
     ]
    },
    {
     "name": "stdout",
     "output_type": "stream",
     "text": [
      "Before Swapping the values 0 and 1\n",
      "After Swapping the values 1 and 0\n"
     ]
    }
   ],
   "source": [
    "#10Q  Swap variables without using extra variable\n",
    "num1 = eval(input(\"Enter a num1:\"))\n",
    "num2 = eval(input(\"Enter a num2:\"))\n",
    "print(\"Before Swapping the values {} and {}\".format(num1,num2))\n",
    "num1,num2 =num2,num1\n",
    "print(\"After Swapping the values {} and {}\".format(num1,num2))"
   ]
  },
  {
   "cell_type": "code",
   "execution_count": 13,
   "id": "c40ba8ca-f58a-4050-ad1d-f863f7facb5d",
   "metadata": {},
   "outputs": [
    {
     "name": "stdin",
     "output_type": "stream",
     "text": [
      "Enter a number: 12\n"
     ]
    },
    {
     "name": "stdout",
     "output_type": "stream",
     "text": [
      "12 is positive\n"
     ]
    }
   ],
   "source": [
    "#11Q check the num is positive,negative or zero\n",
    "num = eval(input(\"Enter a number:\"))\n",
    "if num >0:\n",
    "    print(\"{} is positive\".format(num))\n",
    "elif num ==0:\n",
    "    print(\"{} is zero\".format(num))\n",
    "else:\n",
    "    print(\"{} is negative\".format(num))"
   ]
  },
  {
   "cell_type": "code",
   "execution_count": 14,
   "id": "272826b4-8de1-48ef-be0b-6ae09c213a14",
   "metadata": {},
   "outputs": [
    {
     "name": "stdin",
     "output_type": "stream",
     "text": [
      "Enter a num: 12\n"
     ]
    },
    {
     "name": "stdout",
     "output_type": "stream",
     "text": [
      "12 is even\n"
     ]
    }
   ],
   "source": [
    "#12Q check is odd or even\n",
    "num = eval(input(\"Enter a num:\"))\n",
    "if num %2 ==0:\n",
    "    print(\"{} is even\".format(num))\n",
    "else:\n",
    "    print(\"{} is odd\".format(num))"
   ]
  },
  {
   "cell_type": "code",
   "execution_count": 17,
   "id": "61708882-7e9c-4d83-8b6d-13ba16505a49",
   "metadata": {},
   "outputs": [
    {
     "name": "stdin",
     "output_type": "stream",
     "text": [
      "Enter a year 2000\n"
     ]
    },
    {
     "name": "stdout",
     "output_type": "stream",
     "text": [
      "2000 is a Leap year\n"
     ]
    }
   ],
   "source": [
    "#13Q to check leap year\n",
    "year = eval(input(\"Enter a year\"))\n",
    "if year%100==0 and year%400==0:\n",
    "    print(\"{} is a Leap year\".format(year))\n",
    "elif year%4 ==0 and year%100 != 0:\n",
    "    print(\"{} is a Leap Year\".format(year))\n",
    "else:\n",
    "    print(\"{} is not a Lear Year\".format(year))"
   ]
  },
  {
   "cell_type": "code",
   "execution_count": 18,
   "id": "cd3be4c3-ec6a-449b-b71f-71e7777d17a9",
   "metadata": {},
   "outputs": [
    {
     "name": "stdin",
     "output_type": "stream",
     "text": [
      "Enter a num: 10\n"
     ]
    },
    {
     "name": "stdout",
     "output_type": "stream",
     "text": [
      "10 is not a prime number\n"
     ]
    }
   ],
   "source": [
    "#14Q prime number\n",
    "num = eval(input(\"Enter a num:\"))\n",
    "flag = False\n",
    "if num == 1:\n",
    "    print(\"{} is not a prime number:\".format(num))\n",
    "elif num > 1:\n",
    "    for i in range(2,num):\n",
    "        if num%i == 0:\n",
    "            flag = True\n",
    "            break\n",
    "if flag == True:\n",
    "    print(\"{} is not a prime number\".format(num))\n",
    "else:\n",
    "    print(\"{} is a prime number\".format(num))"
   ]
  },
  {
   "cell_type": "code",
   "execution_count": 32,
   "id": "4837fbd5-fe12-48b3-a541-f1c141f952dc",
   "metadata": {},
   "outputs": [
    {
     "name": "stdout",
     "output_type": "stream",
     "text": [
      "2\n",
      "3\n",
      "5\n",
      "7\n"
     ]
    }
   ],
   "source": [
    "#15Q prime nubers 1-10\n",
    "for num in range(1,11):\n",
    "    if num > 1:\n",
    "        for i in range(2,num):\n",
    "            if num%i == 0:\n",
    "                break\n",
    "        else:\n",
    "            print(num)"
   ]
  },
  {
   "cell_type": "code",
   "execution_count": 35,
   "id": "4dc78c7e-057b-4911-ad76-e5c1d3ccf3da",
   "metadata": {},
   "outputs": [
    {
     "name": "stdin",
     "output_type": "stream",
     "text": [
      "Enter a number: 5\n"
     ]
    },
    {
     "name": "stdout",
     "output_type": "stream",
     "text": [
      "Factorial of 5 is:120\n"
     ]
    }
   ],
   "source": [
    "#16Q Factorial number\n",
    "num = eval(input(\"Enter a number:\"))\n",
    "fact =1\n",
    "if num < 0:\n",
    "    print(\"Factorial does not exist for negative number\")\n",
    "elif num ==0:\n",
    "    print(\"Factorial of 0 is 1\")\n",
    "else:\n",
    "    if num > 1:\n",
    "        for i in range(2,num+1):\n",
    "            fact *= i\n",
    "print(\"Factorial of {} is:{}\".format(num,fact))"
   ]
  },
  {
   "cell_type": "code",
   "execution_count": 37,
   "id": "a4e63fa1-b5be-4076-b5ec-3060a71fd1cf",
   "metadata": {},
   "outputs": [
    {
     "name": "stdin",
     "output_type": "stream",
     "text": [
      "Enter a num: 10\n"
     ]
    },
    {
     "name": "stdout",
     "output_type": "stream",
     "text": [
      "10 X 1 = 10\n",
      "10 X 2 = 20\n",
      "10 X 3 = 30\n",
      "10 X 4 = 40\n",
      "10 X 5 = 50\n",
      "10 X 6 = 60\n",
      "10 X 7 = 70\n",
      "10 X 8 = 80\n",
      "10 X 9 = 90\n",
      "10 X 10 = 100\n"
     ]
    }
   ],
   "source": [
    "#17Q multiplication table\n",
    "num = eval(input(\"Enter a num:\"))\n",
    "for i in range(1,num+1):\n",
    "    print(\"{} X {} = {}\".format(num,i,num*i))"
   ]
  },
  {
   "cell_type": "code",
   "execution_count": 52,
   "id": "e5d7da86-6a1e-4480-99ff-58da9dc5c6ec",
   "metadata": {},
   "outputs": [
    {
     "name": "stdin",
     "output_type": "stream",
     "text": [
      "How many terms?  10\n"
     ]
    },
    {
     "name": "stdout",
     "output_type": "stream",
     "text": [
      "Fibonacci sequence:\n",
      "0\n",
      "1\n",
      "1\n",
      "2\n",
      "3\n",
      "5\n",
      "8\n",
      "13\n",
      "21\n",
      "34\n",
      "10\n"
     ]
    }
   ],
   "source": [
    "#18Q Fibonacci Sequence\n",
    "n = eval(input(\"How many terms? \"))\n",
    "n1,n2 =0,1\n",
    "count =0\n",
    "if n <=0:\n",
    "    print(\"Please enter a positive number\")\n",
    "elif n ==1:\n",
    "    # print(\"Fibonacci sequence upto\",n,\":\")\n",
    "    print(n1)\n",
    "else:\n",
    "    print(\"Fibonacci sequence:\")\n",
    "    while count < n:\n",
    "        print(n1)\n",
    "        n3 = n1+n2\n",
    "        n1 = n2\n",
    "        n2 = n3\n",
    "        count +=1\n",
    "print(count)"
   ]
  },
  {
   "cell_type": "code",
   "execution_count": 2,
   "id": "85ab50d0-cf82-4347-8f18-599d075f5973",
   "metadata": {},
   "outputs": [
    {
     "name": "stdin",
     "output_type": "stream",
     "text": [
      "Enter a num: 153\n"
     ]
    },
    {
     "name": "stdout",
     "output_type": "stream",
     "text": [
      "153 is ArmStrong Number\n"
     ]
    }
   ],
   "source": [
    "#19Q to check armstromg number or not\n",
    "num = eval(input(\"Enter a num:\"))\n",
    "num_str = str(num)\n",
    "num_digits = len(num_str)\n",
    "temp =num\n",
    "sum_of_num = 0\n",
    "while(num > 0):\n",
    "    last_digit = num%10\n",
    "    sum_of_num += last_digit**num_digits\n",
    "    num //= 10\n",
    "if sum_of_num == temp:\n",
    "    print(\"{} is ArmStrong Number\".format(temp))\n",
    "else:\n",
    "    print(\"{} is not a Armstrong Number\".format(temp))"
   ]
  },
  {
   "cell_type": "code",
   "execution_count": 3,
   "id": "1a6166f2-aff6-4df9-b6de-a167793fc4c4",
   "metadata": {},
   "outputs": [
    {
     "name": "stdin",
     "output_type": "stream",
     "text": [
      "Enter a lower num: 10\n",
      "Enter a upper num: 1000\n"
     ]
    },
    {
     "name": "stdout",
     "output_type": "stream",
     "text": [
      "153\n",
      "370\n",
      "371\n",
      "407\n"
     ]
    }
   ],
   "source": [
    "#20Q to find Armstrong number is an interval\n",
    "lower =eval(input(\"Enter a lower num:\"))\n",
    "upper =eval(input(\"Enter a upper num:\"))\n",
    "for num in range(lower,upper+1):\n",
    "    order = len(str(num))\n",
    "    temp = num\n",
    "    sum =0\n",
    "    while temp > 0:\n",
    "        last_digit = temp%10\n",
    "        sum += last_digit ** order\n",
    "        temp //=10\n",
    "    if sum == num:\n",
    "        print(num)"
   ]
  },
  {
   "cell_type": "code",
   "execution_count": 7,
   "id": "566dbfe7-1e35-426b-82fb-ed13f9806eae",
   "metadata": {},
   "outputs": [
    {
     "name": "stdin",
     "output_type": "stream",
     "text": [
      "Enter a num: 10\n"
     ]
    },
    {
     "name": "stdout",
     "output_type": "stream",
     "text": [
      "Sum of 10 natural numbers is:55\n"
     ]
    }
   ],
   "source": [
    "#21Q sum of natural numbers\n",
    "num = eval(input(\"Enter a num:\"))\n",
    "sum_of_num=0\n",
    "for i in range(1,num+1):\n",
    "    sum_of_num += i\n",
    "print(\"Sum of {} natural numbers is:{}\".format(num,sum_of_num))"
   ]
  },
  {
   "cell_type": "code",
   "execution_count": 9,
   "id": "a349049f-4273-42aa-ba21-e53ed8bbfef9",
   "metadata": {},
   "outputs": [
    {
     "name": "stdin",
     "output_type": "stream",
     "text": [
      "Enter a num1: 54\n",
      "Enter a num2: 24\n"
     ]
    },
    {
     "name": "stdout",
     "output_type": "stream",
     "text": [
      "The L.C.M is 216\n"
     ]
    }
   ],
   "source": [
    "#22Q to find Lcm\n",
    "x = eval(input(\"Enter a num1:\"))\n",
    "y = eval(input(\"Enter a num2:\"))\n",
    "def lcm(x,y):\n",
    "    if x > y:\n",
    "        greater = x\n",
    "    else:\n",
    "        greater = y\n",
    "    while(True):\n",
    "        if greater%x == 0 and greater%y ==0:\n",
    "            lcm = greater\n",
    "            break\n",
    "        greater += 1\n",
    "    return lcm\n",
    "print(\"The L.C.M is\",lcm(x,y))        "
   ]
  },
  {
   "cell_type": "code",
   "execution_count": 10,
   "id": "63ab167e-ad5b-46ad-a45a-2604b12b7654",
   "metadata": {},
   "outputs": [
    {
     "name": "stdin",
     "output_type": "stream",
     "text": [
      "Enter a num1 54\n",
      "Enter a num2 24\n"
     ]
    },
    {
     "name": "stdout",
     "output_type": "stream",
     "text": [
      "The H.C.F is 6\n"
     ]
    }
   ],
   "source": [
    "#23Q to find hcf\n",
    "x = eval(input(\"Enter a num1\"))\n",
    "y = eval(input(\"Enter a num2\"))\n",
    "def hcf(x,y):\n",
    "    if x > y:\n",
    "        smaller = y\n",
    "    else:\n",
    "        smaller = x\n",
    "    for i in range(1,smaller+1):\n",
    "        if x%i == 0 and y%i ==0:\n",
    "            hcf = i\n",
    "    return hcf\n",
    "print(\"The H.C.F is\",hcf(x,y))        "
   ]
  },
  {
   "cell_type": "code",
   "execution_count": 11,
   "id": "1c3b0008-1896-4176-9f6e-5bc7b70cfabf",
   "metadata": {},
   "outputs": [
    {
     "name": "stdin",
     "output_type": "stream",
     "text": [
      "Enter a decimal number: 27\n"
     ]
    },
    {
     "name": "stdout",
     "output_type": "stream",
     "text": [
      "The decimal value of 27 is:\n",
      "0b11011 in binary.\n",
      "0o33 in octal.\n",
      "0x1b in hexadecimal.\n"
     ]
    }
   ],
   "source": [
    "#24Q to convert decimal to binary,octal,hexidecimal\n",
    "dec_num = eval(input(\"Enter a decimal number:\"))\n",
    "print(\"The decimal value of\",dec_num,\"is:\")\n",
    "print(bin(dec_num), \"in binary.\")\n",
    "print(oct(dec_num), \"in octal.\")\n",
    "print(hex(dec_num), \"in hexadecimal.\")"
   ]
  },
  {
   "cell_type": "code",
   "execution_count": 12,
   "id": "29f15751-1a6b-4082-a7ec-d1885ed6a38e",
   "metadata": {},
   "outputs": [
    {
     "name": "stdin",
     "output_type": "stream",
     "text": [
      "Enter the character: A\n"
     ]
    },
    {
     "name": "stdout",
     "output_type": "stream",
     "text": [
      "The ASCII value of 'A'is 65\n"
     ]
    }
   ],
   "source": [
    "#25Q \n",
    "char = str(input(\"Enter the character:\"))\n",
    "print(\"The ASCII value of '\"+char+\"'is\",ord(char))"
   ]
  },
  {
   "cell_type": "code",
   "execution_count": 13,
   "id": "987d018d-a2fb-4d61-830e-fa7b7577c46d",
   "metadata": {},
   "outputs": [
    {
     "name": "stdout",
     "output_type": "stream",
     "text": [
      "Select Operation\n",
      "1.Add\n",
      "2.Sub\n",
      "3.Mul\n",
      "4.Div\n"
     ]
    },
    {
     "name": "stdin",
     "output_type": "stream",
     "text": [
      "Enter choice(1/2/3/4) 1\n",
      "Enter first number: 10\n",
      "Enter second number: 20\n"
     ]
    },
    {
     "name": "stdout",
     "output_type": "stream",
     "text": [
      "10.0 + 20.0 = 30.0\n"
     ]
    },
    {
     "name": "stdin",
     "output_type": "stream",
     "text": [
      "Let's do next calculation? (yes,no): no\n"
     ]
    }
   ],
   "source": [
    "#26Q to make a simple calculator with 4 basic mathematical operations\n",
    "def add(x,y):\n",
    "  return x+y\n",
    "def sub(x,y):\n",
    "    return x-y\n",
    "def mul(x,y):\n",
    "    return x* y\n",
    "def div(x,y):\n",
    "    return x/y\n",
    "print(\"Select Operation\")\n",
    "print(\"1.Add\")\n",
    "print(\"2.Sub\")\n",
    "print(\"3.Mul\")\n",
    "print(\"4.Div\")\n",
    "while True:\n",
    "    choice =input(\"Enter choice(1/2/3/4)\")\n",
    "    if choice in ('1','2','3','4'):\n",
    "        try:\n",
    "            num1 = float(input(\"Enter first number:\"))\n",
    "            num2 = float(input(\"Enter second number:\"))\n",
    "        except ValueError:\n",
    "            print(\"Invalid  input. please enter a number.\")\n",
    "            continue\n",
    "        if choice == '1':\n",
    "            print(num1,\"+\",num2, \"=\",add(num1,num2))\n",
    "        elif choice == '2':\n",
    "            print(num1,'-',num2, \"=\",sub(num1,num2))\n",
    "        elif choice == '3':\n",
    "            print(num1,\"*\",num2,\"=\",mul(num1,num2))\n",
    "        elif choice == '4':\n",
    "            print(num1,\"/\",num2,\"=\",div(num1,num2))\n",
    "        next_cal = input(\"Let's do next calculation? (yes,no):\")\n",
    "        if next_cal == 'no':\n",
    "            break\n",
    "    else:\n",
    "        print(\"Invalid input\")\n",
    "        "
   ]
  },
  {
   "cell_type": "code",
   "execution_count": 14,
   "id": "9184b31e-8f42-4f8f-bc33-c9c41a9d7b54",
   "metadata": {},
   "outputs": [
    {
     "name": "stdin",
     "output_type": "stream",
     "text": [
      "Enter the number of terms(greater than 0): 5\n"
     ]
    },
    {
     "name": "stdout",
     "output_type": "stream",
     "text": [
      "Fibonacci sequence:\n",
      "0\n",
      "1\n",
      "1\n",
      "2\n",
      "3\n"
     ]
    }
   ],
   "source": [
    "#27Q fibonacci sequence using recurssion\n",
    "def recu(n):\n",
    "    if n <= 1:\n",
    "        return n\n",
    "    else:\n",
    "        return recu(n-1)+recu(n-2)\n",
    "nterms =int(input(\"Enter the number of terms(greater than 0):\"))\n",
    "if nterms <= 0:\n",
    "    print(\"Please enter a positive number\")\n",
    "else:\n",
    "    print(\"Fibonacci sequence:\")\n",
    "    for i in range(nterms):\n",
    "        print(recu(i))"
   ]
  },
  {
   "cell_type": "code",
   "execution_count": 16,
   "id": "e862959a-1182-4a04-ba52-948539e54541",
   "metadata": {},
   "outputs": [
    {
     "name": "stdin",
     "output_type": "stream",
     "text": [
      "Enter a num: 5\n"
     ]
    },
    {
     "name": "stdout",
     "output_type": "stream",
     "text": [
      "factorial of 5 is 120\n"
     ]
    }
   ],
   "source": [
    "#28Q factorial number using recurssion\n",
    "def fact(n):\n",
    "    if n == 1:\n",
    "        return n\n",
    "    else:\n",
    "        return n*fact(n-1)\n",
    "num = int(input(\"Enter a num:\"))\n",
    "if num < 0:\n",
    "    print(\"factorial number does n't start with negative\")\n",
    "elif num ==0:\n",
    "    print(\"the factorial 0 is 1\")\n",
    "else:\n",
    "    print(\"factorial of {} is {}\".format(num,fact(num)))"
   ]
  },
  {
   "cell_type": "code",
   "execution_count": 17,
   "id": "3298e30e-4add-4780-9bae-521277a1821b",
   "metadata": {},
   "outputs": [
    {
     "name": "stdin",
     "output_type": "stream",
     "text": [
      "Enter your height in meters: 5.6\n",
      "Enter your weight in kg: 2120\n"
     ]
    },
    {
     "name": "stdout",
     "output_type": "stream",
     "text": [
      "Welcome to the BMI calculator.\n",
      "Your BMI is: 67.6\n",
      "You are obese\n"
     ]
    }
   ],
   "source": [
    "#29Q calculate body mass index\n",
    "def bodymassindex(height,weight):\n",
    "    return round((weight/height ** 2),2)\n",
    "height = float(input(\"Enter your height in meters:\"))\n",
    "weight = float(input(\"Enter your weight in kg:\"))\n",
    "print(\"Welcome to the BMI calculator.\")\n",
    "bmi = bodymassindex(height,weight)\n",
    "print(\"Your BMI is:\",bmi)\n",
    "\n",
    "if bmi <= 18.5:\n",
    "    print(\"You are Under weight\")\n",
    "elif 18.5 <bmi <= 24.9:\n",
    "    print(\"You are Normal weight\")\n",
    "elif 25 < bmi <= 29.9:\n",
    "    print(\"You are over weight\")\n",
    "else:\n",
    "    print(\"You are obese\")\n",
    "          "
   ]
  },
  {
   "cell_type": "code",
   "execution_count": 19,
   "id": "322ac005-3759-4400-b645-4bc11bb53f1b",
   "metadata": {},
   "outputs": [
    {
     "name": "stdin",
     "output_type": "stream",
     "text": [
      "Enter a number: 1.4\n"
     ]
    },
    {
     "name": "stdout",
     "output_type": "stream",
     "text": [
      "The Natural logarithm of 1.4 is: 0.3364722366212129\n"
     ]
    }
   ],
   "source": [
    "#30Q to calculate natural logarithm of any number\n",
    "import math \n",
    "num = float(input(\"Enter a number:\"))\n",
    "if num <= 0:\n",
    "    print(\"Enter a positive Number\")\n",
    "else:\n",
    "    res = math.log(num)\n",
    "    print(f\"The Natural logarithm of {num} is: {res}\")"
   ]
  },
  {
   "cell_type": "code",
   "execution_count": 1,
   "id": "cd8b6e43-c88c-4351-a4d8-5ebebd0dd6ea",
   "metadata": {},
   "outputs": [
    {
     "name": "stdin",
     "output_type": "stream",
     "text": [
      "Enter a number: 7\n"
     ]
    },
    {
     "name": "stdout",
     "output_type": "stream",
     "text": [
      "cube sum of first 7 natural numbers is: 784\n"
     ]
    }
   ],
   "source": [
    "#31Q cube sum of first n natural numbers\n",
    "def cube_sum_of_natural_numbers(n):\n",
    "    if n <= 0:\n",
    "        return 0\n",
    "    else:\n",
    "        total = sum([i ** 3 for i in range(1,n+1)])\n",
    "        return total\n",
    "n = int(input(\"Enter a number:\"))\n",
    "if n <=0:\n",
    "    print(\"Please enter a positive number\")\n",
    "else:\n",
    "    res = cube_sum_of_natural_numbers(n)\n",
    "    print(f\"cube sum of first {n} natural numbers is: {res}\")"
   ]
  },
  {
   "cell_type": "code",
   "execution_count": 3,
   "id": "31f10c24-22c2-41db-a2b0-fdcd59095726",
   "metadata": {},
   "outputs": [
    {
     "name": "stdout",
     "output_type": "stream",
     "text": [
      "Sum of array: 15\n",
      "Sum of arrayy: 15\n"
     ]
    }
   ],
   "source": [
    "#32Q to find sum of array\n",
    "my_list = [1,2,3,4,5]\n",
    "ans = sum(my_list)\n",
    "print(\"Sum of array:\",ans)\n",
    "\n",
    "#method 2 \n",
    "total =0\n",
    "for i in my_list:\n",
    "    total += int(i)\n",
    "print(\"Sum of arrayy:\",total)"
   ]
  },
  {
   "cell_type": "code",
   "execution_count": 8,
   "id": "bf1d52e3-acbf-4699-8e45-290c723912a4",
   "metadata": {},
   "outputs": [
    {
     "name": "stdout",
     "output_type": "stream",
     "text": [
      "Largest Element in array: 4\n"
     ]
    }
   ],
   "source": [
    "#33Q to find max value in array\n",
    "my_list = [1,2,3,4]\n",
    "ans =my_list[0]\n",
    "for i in range(len(my_list)):\n",
    "    if my_list[i] > ans:\n",
    "        ans = my_list[i]\n",
    "print(\"Largest Element in array:\",ans)"
   ]
  },
  {
   "cell_type": "code",
   "execution_count": 12,
   "id": "f7a3a044-86e8-4c75-b22e-36fc394422e0",
   "metadata": {},
   "outputs": [
    {
     "name": "stdout",
     "output_type": "stream",
     "text": [
      "Before roatating the array: [1, 2, 3, 4, 5]\n",
      "After roatting the array: [4, 5, 1, 2, 3]\n"
     ]
    }
   ],
   "source": [
    "#34Q Rotation of arrray\n",
    "def rotate(arr,d):\n",
    "    n = len(arr)\n",
    "    #check d is valid or it should with in range\n",
    "    if d<0 or d >= n:\n",
    "        return \"Invalid rotation value\"\n",
    "\n",
    "    #create a new array and initialize with 0 \n",
    "    rotated_arr=[0] * n\n",
    "\n",
    "    #perform the rotation\n",
    "    for i in range(n):\n",
    "        rotated_arr[i] = arr[(i+d) % n]\n",
    "    return rotated_arr\n",
    "\n",
    "arr = [1,2,3,4,5]\n",
    "d = 3\n",
    "res= rotate(arr,d)\n",
    "print(\"Before roatating the array:\",arr)\n",
    "print(\"After roatting the array:\",res)"
   ]
  },
  {
   "cell_type": "code",
   "execution_count": 13,
   "id": "987e1d9e-be81-4972-84bf-b9456d20a18c",
   "metadata": {},
   "outputs": [
    {
     "name": "stdout",
     "output_type": "stream",
     "text": [
      "original arr: [1, 2, 3, 4, 5]\n",
      "After split the array: [3, 4, 5, 1, 2]\n"
     ]
    }
   ],
   "source": [
    "#35Q split the array and add the first part to the end?\n",
    "def split_the_arr(arr,k):\n",
    "    if k< 0 or k>=len(arr):\n",
    "        return arr\n",
    "    first_part = arr[:k]\n",
    "    second_part = arr[k:]\n",
    "\n",
    "    res = second_part + first_part\n",
    "    return res\n",
    "arr = [1,2,3,4,5]\n",
    "k=2\n",
    "res= split_the_arr(arr,k)\n",
    "print(\"original arr:\",arr)\n",
    "print(\"After split the array:\",res)"
   ]
  },
  {
   "cell_type": "code",
   "execution_count": 16,
   "id": "9a0279f2-005e-41e9-8b85-593e8094d0a0",
   "metadata": {},
   "outputs": [
    {
     "name": "stdout",
     "output_type": "stream",
     "text": [
      "arr1 is monotonic: True\n",
      "arr2 is monotonic: False\n",
      "arr3 is monotonic: False\n"
     ]
    }
   ],
   "source": [
    "#36Q to check given array is monotonic\n",
    "def is_monotonic(arr):\n",
    "    dec = inc= True\n",
    "    for i in range(1,len(arr)):\n",
    "        if arr[i] < arr[i-1]:\n",
    "            inc = False\n",
    "        elif arr[i] > arr[i-1]:\n",
    "            dec = False\n",
    "    return inc or dec\n",
    "print(\"arr1 is monotonic:\",is_monotonic([1,2,3,4]))\n",
    "print(\"arr2 is monotonic:\",is_monotonic([2,1,2,3,4]))\n",
    "print(\"arr3 is monotonic:\",is_monotonic([1,2,3,4,2]))"
   ]
  },
  {
   "cell_type": "code",
   "execution_count": 25,
   "id": "f2960e4f-32d3-461b-acc4-bd1a1dd7efe2",
   "metadata": {},
   "outputs": [
    {
     "name": "stdout",
     "output_type": "stream",
     "text": [
      "Sum of matrices:\n",
      "[10, 10, 10]\n",
      "[10, 10, 10]\n",
      "[10, 10, 10]\n"
     ]
    }
   ],
   "source": [
    "#37Q add two matrices\n",
    "def add_matrices(mat1,mat2):\n",
    "    if len(mat1) != len(mat2) or len(mat1[0]) != len(mat2[0]):\n",
    "        return \"Matrices must have the same dimensions for addition\"\n",
    "    result = []\n",
    "    for i in range(len(mat1)):\n",
    "        row = []\n",
    "        for j in range(len(mat1[0])):\n",
    "            row.append(mat1[i][j] + mat2[i][j])\n",
    "        result.append(row)\n",
    "    return result\n",
    "mat1 = [[1,2,3],[4,5,6],[7,8,9]]\n",
    "mat2 = [[9,8,7],[6,5,4],[3,2,1]]\n",
    "\n",
    "result = add_matrices(mat1,mat2)\n",
    "\n",
    "print(\"Sum of matrices:\")\n",
    "for  row in result:\n",
    "    print(row)"
   ]
  },
  {
   "cell_type": "code",
   "execution_count": 28,
   "id": "1219f8a2-1226-40e0-a24e-b9ec4020c0d7",
   "metadata": {},
   "outputs": [
    {
     "name": "stdout",
     "output_type": "stream",
     "text": [
      "Mul of matrices:\n",
      "[9, 16, 21]\n",
      "[24, 25, 24]\n",
      "[21, 16, 9]\n"
     ]
    }
   ],
   "source": [
    "#38Q multiply two matrices\n",
    "def mul_matrices(mat1,mat2):\n",
    "    if len(mat1) != len(mat2) or len(mat1[0]) != len(mat2[0]):\n",
    "        return \"Matrices must have the same dimensions for multiplication\"\n",
    "    result =[]\n",
    "    for i in range(len(mat1)):\n",
    "        row =[]\n",
    "        for j in range(len(mat1[0])):\n",
    "            row.append(mat1[i][j] * mat2[i][j])\n",
    "        result.append(row)\n",
    "    return result\n",
    "mat1 = [[1,2,3],[4,5,6],[7,8,9]]\n",
    "mat2 = [[9,8,7],[6,5,4],[3,2,1]]\n",
    "\n",
    "result_matrix = mul_matrices(mat1,mat2)\n",
    "print(\"Mul of matrices:\")\n",
    "for row in result_matrix:\n",
    "    print(row)"
   ]
  },
  {
   "cell_type": "code",
   "execution_count": 37,
   "id": "9b1a9d3e-80f5-4d8b-b2b7-bcc946c7053c",
   "metadata": {},
   "outputs": [
    {
     "name": "stdout",
     "output_type": "stream",
     "text": [
      "Transposed matrix:\n",
      "[1, 4, 7]\n",
      "[2, 5, 8]\n",
      "[3, 6, 9]\n"
     ]
    }
   ],
   "source": [
    "#39Q transpose of a matrix\n",
    "def transpose_matrix(matrix):\n",
    "    rows,cols= len(matrix),len(matrix[0])\n",
    "    result =[[0 for _ in range(rows)] for _ in range(cols)]\n",
    "    for i in range(rows):\n",
    "        for j in range(cols):\n",
    "           result[j][i] = matrix[i][j]\n",
    "    return result\n",
    "matrix =[[1,2,3],[4,5,6],[7,8,9]]\n",
    "transposed_matrix =transpose_matrix(matrix)\n",
    "print(\"Transposed matrix:\")\n",
    "for row in transposed_matrix:\n",
    "    print(row)"
   ]
  },
  {
   "cell_type": "code",
   "execution_count": 43,
   "id": "7161b79c-cd9a-4660-b502-c35ef4d2c7d7",
   "metadata": {},
   "outputs": [
    {
     "name": "stdin",
     "output_type": "stream",
     "text": [
      "Enter a word:  yesh teja roja\n"
     ]
    },
    {
     "name": "stdout",
     "output_type": "stream",
     "text": [
      "The sorted words are:\n",
      "Roja\n",
      "Teja\n",
      "Yesh\n"
     ]
    }
   ],
   "source": [
    "#40Q to Sort Words in Alphabetic Order\n",
    "my_str = input(\"Enter a word: \")\n",
    "split_word = [i.capitalize() for i in my_str.split()]\n",
    "split_word.sort()\n",
    "\n",
    "#display wthe sorted words\n",
    "print(\"The sorted words are:\")\n",
    "for word in split_word:\n",
    "    print(word)"
   ]
  },
  {
   "cell_type": "code",
   "execution_count": 44,
   "id": "71641521-ab0b-4138-afea-5c3c5f38c413",
   "metadata": {},
   "outputs": [
    {
     "name": "stderr",
     "output_type": "stream",
     "text": [
      "<>:2: SyntaxWarning: invalid escape sequence '\\,'\n",
      "<>:2: SyntaxWarning: invalid escape sequence '\\,'\n",
      "C:\\Users\\tharu\\AppData\\Local\\Temp\\ipykernel_29000\\1112965450.py:2: SyntaxWarning: invalid escape sequence '\\,'\n",
      "  punctuations ='''!()-[]{};:'\"\\,<>./?@#$%^&*_~'''\n"
     ]
    },
    {
     "name": "stdin",
     "output_type": "stream",
     "text": [
      "Enter a string:  yeshwan@tu$%^^\n"
     ]
    },
    {
     "name": "stdout",
     "output_type": "stream",
     "text": [
      "yeshwantu\n"
     ]
    }
   ],
   "source": [
    "#41Q to remove punctuation from a string\n",
    "punctuations ='''!()-[]{};:'\"\\,<>./?@#$%^&*_~'''\n",
    "my_str = input(\"Enter a string: \")\n",
    "word = \"\"\n",
    "for char in my_str:\n",
    "    if char not in punctuations:\n",
    "        word += char\n",
    "print(word)"
   ]
  },
  {
   "cell_type": "code",
   "execution_count": 53,
   "id": "b4f849a3-95f0-43fb-b869-ea14e487329d",
   "metadata": {},
   "outputs": [
    {
     "name": "stdin",
     "output_type": "stream",
     "text": [
      "Enter a number:  2\n"
     ]
    },
    {
     "name": "stdout",
     "output_type": "stream",
     "text": [
      "2 is a Disarium number.\n"
     ]
    }
   ],
   "source": [
    "#43Q to check the given number is a Disarium number\n",
    "def is_disarium(number):\n",
    "    num_str = str(number)\n",
    "    digit_sum =  sum(int(i) ** (index+1) for index,i in enumerate(num_str))\n",
    "\n",
    "    return digit_sum == number\n",
    "try:\n",
    "    num =int(input(\"Enter a number: \"))\n",
    "    if is_disarium(num):\n",
    "        print(f\"{num} is a Disarium number.\")\n",
    "    else:\n",
    "        print(f\"{num} is not a Disarium number.\")\n",
    "except ValueError:\n",
    "    print(\"Invalid input. Please enter a valid number.\")"
   ]
  },
  {
   "cell_type": "code",
   "execution_count": 52,
   "id": "4619b5e4-9c8a-4316-8078-f8176506328b",
   "metadata": {},
   "outputs": [
    {
     "name": "stdout",
     "output_type": "stream",
     "text": [
      "Disarium numbers blw 1 to 100 are:\n",
      "1|2|3|4|5|6|7|8|9|89|"
     ]
    }
   ],
   "source": [
    "#44Q to print the Disarium numbers range 1 to 100 numbers\n",
    "def is_disarium(number):\n",
    "    num_str = str(number)\n",
    "    digit_sum = sum(int(i) ** (index+1) for index,i in enumerate(num_str))\n",
    "    return digit_sum  == number\n",
    "disarium_numbers= [num for num in range(1,101) if is_disarium(num)]\n",
    "print(\"Disarium numbers blw 1 to 100 are:\")\n",
    "for row in disarium_numbers:\n",
    "    print(row,end=\"|\")"
   ]
  },
  {
   "cell_type": "code",
   "execution_count": 54,
   "id": "f1248bda-58d4-4026-9407-bb80bfcc7599",
   "metadata": {},
   "outputs": [
    {
     "name": "stdin",
     "output_type": "stream",
     "text": [
      "Enter a number 19\n"
     ]
    },
    {
     "name": "stdout",
     "output_type": "stream",
     "text": [
      "19 is a happy number\n"
     ]
    }
   ],
   "source": [
    "#45Q to check the given number is happy or not\n",
    "def is_happy_number(num):\n",
    "    seen = set()\n",
    "    while num != 1 and num not in seen:\n",
    "        seen.add(num)\n",
    "        num = sum(int(i) ** 2 for i in str(num))\n",
    "    return num ==1\n",
    "num = int(input(\"Enter a number\"))\n",
    "if is_happy_number:\n",
    "    print(\"{} is a happy number\".format(num))\n",
    "else:\n",
    "    print(\"{} is not a happy number\".format(num))"
   ]
  },
  {
   "cell_type": "code",
   "execution_count": 56,
   "id": "6b2eae61-ba36-4964-9eea-e64fad9ecc7c",
   "metadata": {},
   "outputs": [
    {
     "name": "stdout",
     "output_type": "stream",
     "text": [
      "Happy Numbers blw 1 to 100.\n",
      "1,7,10,13,19,23,28,31,32,44,49,68,70,79,82,86,91,94,97,100,"
     ]
    }
   ],
   "source": [
    "#46Q to print the happy numbers 1 to 100\n",
    "def happy_number(num):\n",
    "    seen = set()\n",
    "    while num != 1 and num not in seen:\n",
    "        seen.add(num)\n",
    "        num = sum(int(i) ** 2 for i in str(num))\n",
    "    return num == 1\n",
    "happy_numbers = [num for num in range(1,101) if happy_number(num)]\n",
    "print(\"Happy Numbers blw 1 to 100.\")\n",
    "for num in happy_numbers:\n",
    "    print(num,end=\",\")"
   ]
  },
  {
   "cell_type": "code",
   "execution_count": 59,
   "id": "cfc12d4f-400a-47ba-a7d3-05e6c694b108",
   "metadata": {},
   "outputs": [
    {
     "name": "stdout",
     "output_type": "stream",
     "text": [
      "True\n"
     ]
    }
   ],
   "source": [
    "#47Q to check whether harshad number or not\n",
    "def is_harshad_number(num):\n",
    "    digit_sum = sum(int(i) for i in str(num))\n",
    "\n",
    "    return num%digit_sum ==0\n",
    "\n",
    "print(is_harshad_number(18))\n",
    "        "
   ]
  },
  {
   "cell_type": "code",
   "execution_count": 63,
   "id": "923be96e-edcf-4f77-9c34-fe618d68718c",
   "metadata": {},
   "outputs": [
    {
     "name": "stdout",
     "output_type": "stream",
     "text": [
      "Pronic numbers blw 1 and 100\n",
      "2|6|12|20|30|42|56|72|90|"
     ]
    }
   ],
   "source": [
    "#48Q to print all pronic numbers blw 1 and 100\n",
    "import math\n",
    "def is_pronic_number(num):\n",
    "    for n in range(1,int(math.sqrt(num)+1)):\n",
    "        if n*(n+1) == num:\n",
    "            return True\n",
    "    return False\n",
    "print(\"Pronic numbers blw 1 and 100\")\n",
    "for i in range(1,101):\n",
    "    if is_pronic_number(i):\n",
    "        print(i,end=\"|\")\n",
    "        "
   ]
  },
  {
   "cell_type": "code",
   "execution_count": 64,
   "id": "1d78dee9-7ead-45d0-875d-c66caff62376",
   "metadata": {},
   "outputs": [
    {
     "name": "stdout",
     "output_type": "stream",
     "text": [
      "Sum of elememts: 15\n"
     ]
    }
   ],
   "source": [
    "#49Q sum of numbers in list\n",
    "num_list = [1,2,3,4,5]\n",
    "\n",
    "sum_of_num = 0\n",
    "\n",
    "for num in num_list:\n",
    "    sum_of_num += num\n",
    "print(\"Sum of elememts:\",sum_of_num)"
   ]
  },
  {
   "cell_type": "code",
   "execution_count": 68,
   "id": "db0a4570-1d3d-4563-aaf9-99605c38b949",
   "metadata": {},
   "outputs": [
    {
     "name": "stdout",
     "output_type": "stream",
     "text": [
      "Sum of elememts: 120\n"
     ]
    }
   ],
   "source": [
    "#50Q multiply numbers in list\n",
    "num_list = [1,2,3,4,5]\n",
    "\n",
    "mul_of_num = 1\n",
    "\n",
    "for num in num_list:\n",
    "    mul_of_num *= num\n",
    "print(\"Sum of elememts:\",mul_of_num)"
   ]
  },
  {
   "cell_type": "code",
   "execution_count": 69,
   "id": "530c945b-42d5-49ca-b802-509899790713",
   "metadata": {},
   "outputs": [
    {
     "name": "stdout",
     "output_type": "stream",
     "text": [
      "Smallest ele in a list: 1\n"
     ]
    }
   ],
   "source": [
    "#51Q to find smallest number in list\n",
    "num_list = [1,2,3,42,2]\n",
    "ans = num_list[0]\n",
    "for num in num_list:\n",
    "    if num < ans:\n",
    "        ans = num\n",
    "print(\"Smallest ele in a list:\",ans)"
   ]
  },
  {
   "cell_type": "code",
   "execution_count": 70,
   "id": "7d5ed1cc-f932-447d-bc58-48e73d338c22",
   "metadata": {},
   "outputs": [
    {
     "name": "stdout",
     "output_type": "stream",
     "text": [
      "Largest ele in a list: 7\n"
     ]
    }
   ],
   "source": [
    "#52Q to find largest number in list\n",
    "num_list = [1,2,6,2,4,7]\n",
    "ans = num_list[0]\n",
    "for num in num_list:\n",
    "    if num > ans:\n",
    "        ans = num\n",
    "print(\"Largest ele in a list:\",ans)"
   ]
  },
  {
   "cell_type": "code",
   "execution_count": 88,
   "id": "38d781c1-e97f-41d9-938a-535c04705150",
   "metadata": {},
   "outputs": [
    {
     "name": "stdout",
     "output_type": "stream",
     "text": [
      "Second largest ele: 8\n"
     ]
    }
   ],
   "source": [
    "#53Q to find second largest ele in a list\n",
    "num_list = [1,7,2,4,3,5,8,6,8,6]\n",
    "num_list.sort(reverse = True)\n",
    "if len(num_list) >= 2:\n",
    "    second_largest = num_list[1]\n",
    "    print(\"Second largest ele:\",second_largest)"
   ]
  },
  {
   "cell_type": "code",
   "execution_count": 92,
   "id": "a053c027-d95d-44ff-bc38-22bf8af5307e",
   "metadata": {},
   "outputs": [
    {
     "name": "stdin",
     "output_type": "stream",
     "text": [
      "N =  3\n"
     ]
    },
    {
     "name": "stdout",
     "output_type": "stream",
     "text": [
      "The 3 largest elements in the list are:[10, 9, 8]\n"
     ]
    }
   ],
   "source": [
    "#54Q to find N largest elements from a list\n",
    "def n_largest_numbers(lst,n):\n",
    "    sorted_list = sorted(lst,reverse=True)\n",
    "    largest_ele = sorted_list[:n]\n",
    "    return largest_ele\n",
    "numbers=[1,3,4,6,9,10,8,6]\n",
    "N = int(input(\"N = \"))\n",
    "result =n_largest_numbers(numbers,N)\n",
    "print(f\"The {N} largest elements in the list are:{result}\")"
   ]
  },
  {
   "cell_type": "code",
   "execution_count": 93,
   "id": "12cc895e-f157-4623-83bf-2b0835a2ac6d",
   "metadata": {},
   "outputs": [
    {
     "name": "stdout",
     "output_type": "stream",
     "text": [
      "Even numbers in list: [2, 4, 6, 8, 0]\n"
     ]
    }
   ],
   "source": [
    "#55Q print even numbers in the list\n",
    "def even_num(lst):\n",
    "    res = [i for i in lst if i%2 == 0]\n",
    "    return res\n",
    "lst = [1,2,3,4,5,6,7,8,9,0]\n",
    "even_nums = even_num(lst)\n",
    "print(\"Even numbers in list:\",even_nums)"
   ]
  },
  {
   "cell_type": "code",
   "execution_count": 95,
   "id": "f9f3d3b8-ab2a-42f1-a177-874720f024d4",
   "metadata": {},
   "outputs": [
    {
     "name": "stdout",
     "output_type": "stream",
     "text": [
      "Odd numbers in list: [1, 3, 5, 7, 9]\n"
     ]
    }
   ],
   "source": [
    "#56Q print odd numbers in the list\n",
    "def odd_num(lst):\n",
    "    res = [i for i in lst if i%2 != 0]\n",
    "    return res\n",
    "lst = [1,2,3,4,5,6,7,8,9,0]\n",
    "odd_nums = odd_num(lst)\n",
    "print(\"Odd numbers in list:\",odd_nums)"
   ]
  },
  {
   "cell_type": "code",
   "execution_count": 100,
   "id": "0d304866-67e3-4b3d-be35-8ba2b44b2324",
   "metadata": {},
   "outputs": [
    {
     "name": "stdout",
     "output_type": "stream",
     "text": [
      "List after removing empty lists: [[1, 2, 3], [4, 6], [7, 8, 9]]\n"
     ]
    }
   ],
   "source": [
    "#57Q to remove empty list from list\n",
    "list_of_lists = [[1,2,3],[],[4,6],[],[7,8,9],[]]\n",
    "filter_list = [i for i in list_of_lists if i]\n",
    "print(\"List after removing empty lists:\",filter_list)"
   ]
  },
  {
   "cell_type": "code",
   "execution_count": 105,
   "id": "1bace23d-cecf-45fd-9fd9-abd44aedc549",
   "metadata": {},
   "outputs": [
    {
     "name": "stdout",
     "output_type": "stream",
     "text": [
      "Using slice Operator: [1, 2, 3, 4, 5]\n",
      "Using list Constructor: [1, 2, 3, 4, 5]\n",
      "Using list Comprehension: [1, 2, 3, 4, 5]\n"
     ]
    }
   ],
   "source": [
    "#58Q to clonning or copying a list\n",
    "#1.using slice operator\n",
    "original_list = [1,2,3,4,5]\n",
    "cloned_list1 = original_list[:]\n",
    "\n",
    "#2.using the list() constructor\n",
    "cloned_list2 =list(original_list)\n",
    "\n",
    "#3 using list comprehension\n",
    "cloned_list3 = [i for i in original_list]\n",
    "\n",
    "print(\"Using slice Operator:\",cloned_list1)\n",
    "print(\"Using list Constructor:\",cloned_list2)\n",
    "print(\"Using list Comprehension:\",cloned_list3)"
   ]
  },
  {
   "cell_type": "code",
   "execution_count": 107,
   "id": "47c6419f-416a-4ff2-987d-7e2f93cc3df7",
   "metadata": {},
   "outputs": [
    {
     "name": "stdout",
     "output_type": "stream",
     "text": [
      "2 appears 3 times in the list\n"
     ]
    }
   ],
   "source": [
    "#59Q to find count occurences of an element in a list\n",
    "def count_occurences(lst,ele):\n",
    "    count = lst.count(ele)\n",
    "    return count\n",
    "my_lst = [1,2,3,4,5,0,3,2,5,2,5,0]\n",
    "ele=2\n",
    "occurences = count_occurences(my_lst,ele)\n",
    "print(\"{} appears {} times in the list\".format(ele,occurences))"
   ]
  },
  {
   "cell_type": "code",
   "execution_count": 109,
   "id": "c60e7498-6843-4be8-9306-579de430af58",
   "metadata": {},
   "outputs": [
    {
     "name": "stdout",
     "output_type": "stream",
     "text": [
      "longest words:['banana', 'cherry', 'strawberry'] \n"
     ]
    }
   ],
   "source": [
    "#60Q to find words which are greater than given length k\n",
    "def find_words(words,k):\n",
    "    result =[]\n",
    "    for i in words:\n",
    "        if len(i) > k:\n",
    "            result.append(i)\n",
    "    return result\n",
    "word_list = ['apple','banana','mango','cherry','strawberry','guava']\n",
    "k=5\n",
    "long_words = find_words(word_list,k)\n",
    "print(\"longest words:{} \".format(long_words))"
   ]
  },
  {
   "cell_type": "code",
   "execution_count": 114,
   "id": "77cbfaf7-c681-496c-aa2d-0c70f8f0599f",
   "metadata": {},
   "outputs": [
    {
     "name": "stdout",
     "output_type": "stream",
     "text": [
      "Removing ith character from string: Hello, World!\n"
     ]
    }
   ],
   "source": [
    "#61Q for removing ith character from a string\n",
    "def remove_str(input_str,i):\n",
    "    # check if i ia valid\n",
    "    if i < 0 or i >= len(input_str):\n",
    "        print(f\"Invalid index {i}. The string remains unchanged\")\n",
    "        return input_str\n",
    "    #remove ith character using string\n",
    "    result_str =input_str[:i] + input_str[i+1:]\n",
    "    return result_str\n",
    "input_str = \"Hello, wWorld!\"\n",
    "i =7\n",
    "new_str = remove_str(input_str,i)\n",
    "print(\"Removing ith character from string:\",new_str)"
   ]
  },
  {
   "cell_type": "code",
   "execution_count": 120,
   "id": "23bedbb4-1959-4342-9a5d-068dd3ba95da",
   "metadata": {},
   "outputs": [
    {
     "name": "stdout",
     "output_type": "stream",
     "text": [
      "Original String: Python program to split and join a string\n",
      "Split String: ['Python', 'program', 'to', 'split', 'and', 'join', 'a', 'string']\n",
      "Join String: Python program to split and join a string\n"
     ]
    }
   ],
   "source": [
    "#62Q to split and join the string\n",
    "input_string = \"Python program to split and join a string\"\n",
    "word_list = input_string.split()\n",
    "separator = \" \"\n",
    "output_string = separator.join(word_list)\n",
    "print(\"Original String:\",input_string)\n",
    "print(\"Split String:\",word_list)\n",
    "print(\"Join String:\",output_string)"
   ]
  },
  {
   "cell_type": "code",
   "execution_count": 121,
   "id": "b2968b20-774d-42e2-8a9d-6ca21a1c894f",
   "metadata": {},
   "outputs": [
    {
     "name": "stdout",
     "output_type": "stream",
     "text": [
      "00101010 is a binary string.\n"
     ]
    }
   ],
   "source": [
    "#63Q to check if a given string is binary string   or not\n",
    "def is_binary(input_str):\n",
    "    #iterate\n",
    "    for i in input_str:\n",
    "        if i not in '01':\n",
    "            return False\n",
    "    return True\n",
    "input_str = \"00101010\"\n",
    "if is_binary(input_str):\n",
    "    print(f\"{input_str} is a binary string.\")\n",
    "else:\n",
    "    print(f\"{input_str} is not a binary string.\")"
   ]
  },
  {
   "cell_type": "code",
   "execution_count": 128,
   "id": "7ec78443-ea4b-4f83-8a89-2465aef45d53",
   "metadata": {},
   "outputs": [
    {
     "name": "stdout",
     "output_type": "stream",
     "text": [
      "Uncommon words: ['second', 'first']\n"
     ]
    }
   ],
   "source": [
    "#64Q to find uncommon words from two strings\n",
    "def uncommon_words(str1,str2):\n",
    "    #split the string into words and convert to set\n",
    "    words1 = set(str1.split())\n",
    "    words2 = set(str2.split())\n",
    "   \n",
    "    uncommon_words_set = words1.symmetric_difference(words2)\n",
    "\n",
    "    uncommon_words_list =list(uncommon_words_set)\n",
    "\n",
    "    return uncommon_words_list\n",
    "\n",
    "str1 = \"This is the first string\"\n",
    "str2 = \"This is the second string\"\n",
    "uncommon = uncommon_words(str1,str2)\n",
    "print(\"Uncommon words:\",uncommon)"
   ]
  },
  {
   "cell_type": "code",
   "execution_count": 129,
   "id": "fbb21bf2-3289-49dc-8b3a-c3a916a47500",
   "metadata": {},
   "outputs": [
    {
     "name": "stdout",
     "output_type": "stream",
     "text": [
      "Duplicate characters: ['s', 'h', 'a']\n"
     ]
    }
   ],
   "source": [
    "#65Q to find all duplicate characters in string\n",
    "def find_duplicates(input_str):\n",
    "    char_count = {} #create a empty dict to store char counts\n",
    "    #list to store duplicate characters\n",
    "    duplicates = []\n",
    "    #iterate through each charcter in the input string\n",
    "    for i in input_str:\n",
    "        if i in char_count:\n",
    "            char_count[i] += 1\n",
    "        else:\n",
    "            char_count[i] = 1\n",
    "\n",
    "    for i,count in char_count.items():\n",
    "        if count > 1:\n",
    "            duplicates.append(i)\n",
    "    return duplicates\n",
    "    \n",
    "input_string = \"piyush sharma\"\n",
    "duplicate_chars = find_duplicates(input_string)\n",
    "print(\"Duplicate characters:\",duplicate_chars)   "
   ]
  },
  {
   "cell_type": "code",
   "execution_count": 131,
   "id": "6f471880-62f4-4eab-bbc2-966136716867",
   "metadata": {},
   "outputs": [
    {
     "name": "stdin",
     "output_type": "stream",
     "text": [
      "Enter a string: \"Hello, World!\"\n"
     ]
    },
    {
     "name": "stdout",
     "output_type": "stream",
     "text": [
      "The string contains special charcters\n"
     ]
    }
   ],
   "source": [
    "#66Q to check if a string contains any special character\n",
    "\n",
    "def check_special_char(in_str):\n",
    "    pattern = r'[!@#$%^&*()_+\\{}\\[\\];:<>?~\\\\\\/\\'\"\\-=]'\n",
    "    for i in in_str:\n",
    "        if i in pattern:\n",
    "            return False\n",
    "    return True\n",
    "input_string = str(input(\"Enter a string:\"))\n",
    "contains_special =check_special_char(input_string)\n",
    "if contains_special:\n",
    "    print(\"The string contains special charcters\")\n",
    "else:\n",
    "    print(\"The string contains special charcters\")"
   ]
  },
  {
   "cell_type": "code",
   "execution_count": 133,
   "id": "d63dff74-2085-4283-8aac-1212e29bb098",
   "metadata": {},
   "outputs": [
    {
     "name": "stdout",
     "output_type": "stream",
     "text": [
      "Unique values in dictionary: [10, 20, 30]\n"
     ]
    }
   ],
   "source": [
    "#67Q to Extract unique dictionary values\n",
    "my_dict = {'a':10,'b':20,'c':10,'d':30,'e':20}\n",
    "uni_val = set()\n",
    "for i in my_dict.values():\n",
    "    if i not in uni_val:\n",
    "        uni_val.add(i)\n",
    "uni_val_list = list(uni_val)\n",
    "print(\"Unique values in dictionary:\",uni_val_list)"
   ]
  },
  {
   "cell_type": "code",
   "execution_count": 134,
   "id": "ff7f794b-a171-462d-b773-c80f29c333d5",
   "metadata": {},
   "outputs": [
    {
     "name": "stdout",
     "output_type": "stream",
     "text": [
      "Sum of dict values: 150\n"
     ]
    }
   ],
   "source": [
    "#68Q to find the sum of all items in a dictionary\n",
    "my_dict = {'a':10,'b':20,'c':30,'d':40,'e':50}\n",
    "total_sum =0\n",
    "for i in my_dict.values():\n",
    "    total_sum += i\n",
    "print(\"Sum of dict values:\",total_sum)"
   ]
  },
  {
   "cell_type": "code",
   "execution_count": 138,
   "id": "735206d6-d056-491f-ad4a-8eedb3a3b50b",
   "metadata": {},
   "outputs": [
    {
     "name": "stdout",
     "output_type": "stream",
     "text": [
      "Merge dictioanry using update function: {'a': 1, 'b': 2, 'c': 3, 'd': 4}\n",
      "Merge dictionary unpacking method: {'a': 1, 'b': 2, 'c': 3, 'd': 4}\n"
     ]
    }
   ],
   "source": [
    "#69Q merging two dictionaries\n",
    "#1.method update()\n",
    "dict1 = {'a':1,'b':2}\n",
    "dict2 = {'c':3,'d':4}\n",
    "dict1.update(dict2)\n",
    "print(\"Merge dictioanry using update function:\",dict1)\n",
    "#2.unpacking\n",
    "merge_dict={**dict1,**dict2}\n",
    "print(\"Merge dictionary unpacking method:\",merge_dict)"
   ]
  },
  {
   "cell_type": "code",
   "execution_count": 140,
   "id": "b9ee7364-d394-44fb-b2a0-028c6c5daa2d",
   "metadata": {},
   "outputs": [
    {
     "name": "stdout",
     "output_type": "stream",
     "text": [
      "Flat dictionary: {'a': 1, 'b': 2, 'c': 3, 'd': 4}\n"
     ]
    }
   ],
   "source": [
    "#70Q to convert key-values list to flat dictionary\n",
    "key_values_list = [('a',1),('b',2),('c',3),('d',4)]\n",
    "flat_dict ={}\n",
    "\n",
    "for key,value in key_values_list:\n",
    "    flat_dict[key] = value\n",
    "print(\"Flat dictionary:\",flat_dict)"
   ]
  },
  {
   "cell_type": "code",
   "execution_count": 147,
   "id": "602c40c2-af2b-49b3-8222-74ed27a28ba4",
   "metadata": {},
   "outputs": [
    {
     "data": {
      "text/plain": [
       "{'a': 1, 'b': 2, 'c': 3, 'd': 4}"
      ]
     },
     "execution_count": 147,
     "metadata": {},
     "output_type": "execute_result"
    }
   ],
   "source": [
    "#71Q to insertion at the beginning in OrderedDict()\n",
    "from collections import OrderedDict\n",
    "\n",
    "#create a OrderedDict\n",
    "ordered_dict = OrderedDict([('b',2),('c',3),('d',4)])\n",
    "\n",
    "new_item = ('a',1)\n",
    "new_ordered_dict = OrderedDict([new_item])\n",
    "new_ordered_dict.update(ordered_dict)\n",
    "new_ordered_dict\n",
    "\n",
    "#method2 \n",
    "dict1={'b':2,'c':3,'d':4}\n",
    "dict2 = {'a':1}\n",
    "dict2.update(dict1)\n",
    "dict2"
   ]
  },
  {
   "cell_type": "code",
   "execution_count": 152,
   "id": "ee0880bc-c809-4027-8934-f218181c5051",
   "metadata": {},
   "outputs": [
    {
     "name": "stdout",
     "output_type": "stream",
     "text": [
      "Sorted keys:\n",
      "apple : 3\n",
      "banana : 1\n",
      "cherry : 2\n",
      "date : 4\n"
     ]
    }
   ],
   "source": [
    "#73Q to sort python Dictionaries by Key or value\n",
    "sample_dict ={'apple':3,'banana':1,'cherry':2,'date':4}\n",
    "sorted_dict_keys = dict(sorted(sample_dict.items()))\n",
    "print(\"Sorted keys:\")\n",
    "for key, val in sorted_dict_keys.items():\n",
    "    print(f\"{key} : {val}\")"
   ]
  },
  {
   "cell_type": "code",
   "execution_count": 153,
   "id": "9bd7281f-6c04-43e9-b71e-4cf83e82f48e",
   "metadata": {},
   "outputs": [
    {
     "name": "stdin",
     "output_type": "stream",
     "text": [
      "Enter comma-separated values of D: 100,150,200\n"
     ]
    },
    {
     "name": "stdout",
     "output_type": "stream",
     "text": [
      "18,22,25\n"
     ]
    }
   ],
   "source": [
    "#74Q calculate and prints value according to the given formaula Q =sqrt(2cd/h)\n",
    "import math\n",
    "c=50\n",
    "h=30\n",
    "def calculate_q(d):\n",
    "    return int(math.sqrt((2 * c* d)/h))\n",
    "input_seq = input(\"Enter comma-separated values of D:\")\n",
    "d_values = input_seq.split(',')\n",
    "\n",
    "result = [calculate_q(int(d)) for d in d_values]\n",
    "print(','.join(map(str,result)))"
   ]
  },
  {
   "cell_type": "code",
   "execution_count": 156,
   "id": "27f9fafa-9b83-4eef-9808-1534eafd2dba",
   "metadata": {},
   "outputs": [
    {
     "name": "stdin",
     "output_type": "stream",
     "text": [
      "Enter two digits(x,y): 3,4\n"
     ]
    },
    {
     "name": "stdout",
     "output_type": "stream",
     "text": [
      "[0, 0, 0, 0]\n",
      "[0, 1, 2, 3]\n",
      "[0, 2, 4, 6]\n"
     ]
    }
   ],
   "source": [
    "#75Q array should be i * j folowing program\n",
    "x,y = map(int,input(\"Enter two digits(x,y):\" ).split(\",\"))\n",
    "arr = [[0 for j in range(y)] for i in range(x)]\n",
    "for i in range(x):\n",
    "    for j in range(y):\n",
    "        arr[i][j] = i* j\n",
    "\n",
    "for row in arr:\n",
    "    print(row)"
   ]
  },
  {
   "cell_type": "code",
   "execution_count": 165,
   "id": "3761b561-5296-4d2a-9d7d-475ab68cc0d9",
   "metadata": {},
   "outputs": [
    {
     "name": "stdin",
     "output_type": "stream",
     "text": [
      "Enter  a comma-sepated sequence of words:  kmm,kax,oko\n"
     ]
    },
    {
     "data": {
      "text/plain": [
       "'kmm,kax,oko'"
      ]
     },
     "execution_count": 165,
     "metadata": {},
     "output_type": "execute_result"
    }
   ],
   "source": [
    "#76Q sort the words -> without,hello,bag,world\n",
    "input_sequence = input(\"Enter  a comma-sepated sequence of words: \")\n",
    "\n",
    "words = input_sequence.split()\n",
    "sorted_words =sorted(words)\n",
    "\n",
    "sorted_sequence = ','.join(sorted_words)\n",
    "sorted_sequence"
   ]
  },
  {
   "cell_type": "code",
   "execution_count": 167,
   "id": "d05d4780-c55c-4ff4-9ac4-71f119e6cdac",
   "metadata": {},
   "outputs": [
    {
     "name": "stdin",
     "output_type": "stream",
     "text": [
      "Enter a white-sepated sequence of words:  hello world gain kkak hello world again man perfect\n"
     ]
    },
    {
     "data": {
      "text/plain": [
       "'again gain hello kkak man perfect world'"
      ]
     },
     "execution_count": 167,
     "metadata": {},
     "output_type": "execute_result"
    }
   ],
   "source": [
    "#77Q  sorted words\n",
    "input_sequence = input(\"Enter a white-sepated sequence of words: \")\n",
    "\n",
    "words = set(input_sequence.split())\n",
    "sorted_words =sorted(words)\n",
    "\n",
    "sorted_sequence = ' '.join(sorted_words)\n",
    "sorted_sequence"
   ]
  },
  {
   "cell_type": "code",
   "execution_count": 170,
   "id": "8c77d451-0132-4556-b8a4-4ecb9a552cfb",
   "metadata": {},
   "outputs": [
    {
     "name": "stdin",
     "output_type": "stream",
     "text": [
      "Enter a sentence: \"hello world! 1234\"\n"
     ]
    },
    {
     "name": "stdout",
     "output_type": "stream",
     "text": [
      "Letters: 10\n",
      "Digits: 4\n"
     ]
    }
   ],
   "source": [
    "#79Q count characters and digits\n",
    "sentence = input(\"Enter a sentence:\")\n",
    "\n",
    "char_count = 0\n",
    "digit_count = 0\n",
    "\n",
    "for char in sentence:\n",
    "    if char.isalpha():\n",
    "        char_count +=1\n",
    "    elif char.isdigit():\n",
    "        digit_count += 1\n",
    "#print the results \n",
    "print(\"Letters:\",char_count)\n",
    "print(\"Digits:\",digit_count)"
   ]
  },
  {
   "cell_type": "code",
   "execution_count": 172,
   "id": "780b50f8-7091-44fc-873d-693849f88ead",
   "metadata": {},
   "outputs": [
    {
     "name": "stdin",
     "output_type": "stream",
     "text": [
      "Enter a passwords separated by commas:  akjnkaoihdw@123\n"
     ]
    },
    {
     "name": "stdout",
     "output_type": "stream",
     "text": [
      "\n"
     ]
    }
   ],
   "source": [
    "#80Q to check the validity of password input by users\n",
    "import re\n",
    "def is_valid_pass(password):\n",
    "    if 6 <=len(password) <= 12:\n",
    "        if re.match(r\"(?=.*[a-z]))?=.*[A-Z])(?=.[0-9])(?=.*[$#@])\",password):\n",
    "            return True\n",
    "    return False\n",
    "passwords = input(\"Enter a passwords separated by commas: \").split(',')\n",
    "valid_passwords = []\n",
    "for psw in passwords:\n",
    "    if is_valid_pass(psw):\n",
    "        valid_passwords.append(psw)\n",
    "print(\",\".join(valid_passwords))"
   ]
  },
  {
   "cell_type": "code",
   "execution_count": 173,
   "id": "3ee36cf5-9274-4ae2-ba34-5c650ba01cd0",
   "metadata": {},
   "outputs": [
    {
     "name": "stdin",
     "output_type": "stream",
     "text": [
      "Enter the number in range:  50\n"
     ]
    },
    {
     "name": "stdout",
     "output_type": "stream",
     "text": [
      "0\n",
      "7\n",
      "14\n",
      "21\n",
      "28\n",
      "35\n",
      "42\n",
      "49\n"
     ]
    }
   ],
   "source": [
    "#81Q  Define a class with a generator which can iterate the numbers, which are divisible by7, between a given range 0 and n\n",
    "class divisiblebySeven:\n",
    "    def __init__(self,n):\n",
    "        self.n = n\n",
    "    def generator_divisible_by_seven(self):\n",
    "        for num in range(self.n+1):\n",
    "            if num %7 == 0:\n",
    "                yield num\n",
    "n = int(input(\"Enter the number in range: \"))\n",
    "divisible_by_seven = divisiblebySeven(n).generator_divisible_by_seven()\n",
    "for num in divisible_by_seven:\n",
    "    print(num)\n",
    "    "
   ]
  },
  {
   "cell_type": "code",
   "execution_count": 174,
   "id": "e3ea2b79-cbc0-47e6-b71c-b1ab8eb53c31",
   "metadata": {},
   "outputs": [
    {
     "name": "stdin",
     "output_type": "stream",
     "text": [
      "Enter a sentence:  New to Python or choosing between Python 2 and Python 3? Read Python 2 or  Python 3.\n"
     ]
    },
    {
     "name": "stdout",
     "output_type": "stream",
     "text": [
      "2:2\n",
      "3:2\n",
      "and:1\n",
      "between:1\n",
      "choosing:1\n",
      "new:1\n",
      "or:2\n",
      "python:5\n",
      "read:1\n",
      "to:1\n"
     ]
    }
   ],
   "source": [
    "'''82Q Write a program to compute the frequency of the words from the input. The output\n",
    " should output after sorting the key alphanumerically. Suppose the following input is\n",
    " supplied to the program'''\n",
    "input_sent = input(\"Enter a sentence: \")\n",
    "words = input_sent.split()\n",
    "\n",
    "word_freq ={}\n",
    "for word in words:\n",
    "    word = word.lower().strip(\",?.\")\n",
    "    if word in word_freq:\n",
    "        word_freq[word] += 1\n",
    "    else:\n",
    "        word_freq[word] =1\n",
    "sorted_words = sorted(word_freq.items())\n",
    "for word,freq in sorted_words:\n",
    "    print(f\"{word}:{freq}\")"
   ]
  },
  {
   "cell_type": "code",
   "execution_count": 175,
   "id": "96c12992-fe27-4115-b53d-4b9478593577",
   "metadata": {},
   "outputs": [
    {
     "name": "stdout",
     "output_type": "stream",
     "text": [
      "Unknown\n",
      "Male\n",
      "Female\n"
     ]
    }
   ],
   "source": [
    "'''83Q Define a class Person and its two child classes: Male and Female. All classes have a\n",
    " method \"getGender\" which can print \"Male\" for Male class and \"Female\" for Female\n",
    " class.'''\n",
    "class Person:\n",
    "    def getGender(self):\n",
    "        return \"Unknown\"\n",
    "class Male(Person):\n",
    "    def getGender(self):\n",
    "        return \"Male\"\n",
    "class Female(Person):\n",
    "    def getGender(self):\n",
    "        return \"Female\"\n",
    "person =Person()\n",
    "male = Male()\n",
    "female = Female()\n",
    "\n",
    "print(person.getGender())\n",
    "print(male.getGender())\n",
    "print(female.getGender())"
   ]
  },
  {
   "cell_type": "code",
   "execution_count": 176,
   "id": "f5a88f52-8b5d-472c-9e7c-0c2c7eb05e43",
   "metadata": {},
   "outputs": [
    {
     "name": "stdout",
     "output_type": "stream",
     "text": [
      "I Play Hockey.\n",
      "I Play Football.\n",
      "I Love Hockey.\n",
      "I Love Football.\n",
      "You Play Hockey.\n",
      "You Play Football.\n",
      "You Love Hockey.\n",
      "You Love Football.\n"
     ]
    }
   ],
   "source": [
    " '''84Q Please write a program to generate all sentences where subject is in [\"I\", \"You\"] and\n",
    " verb is in [\"Play\", \"Love\"] and the object is in [\"Hockey\",\"Football\"].'''\n",
    "\n",
    "subjects = [\"I\", \"You\"]\n",
    "verbs = [\"Play\", \"Love\"]\n",
    "objects = [\"Hockey\", \"Football\"]\n",
    "\n",
    "sentences = []\n",
    "for sub in subjects:\n",
    "    for ver in verbs:\n",
    "        for obj in objects:\n",
    "            sentence = f\"{sub} {ver} {obj}.\"\n",
    "            sentences.append(sentence)\n",
    "for sentence in sentences:\n",
    "    print(sentence)"
   ]
  },
  {
   "cell_type": "code",
   "execution_count": 180,
   "id": "cf16a9a7-d161-4b26-97da-1101a09e7686",
   "metadata": {},
   "outputs": [
    {
     "name": "stdout",
     "output_type": "stream",
     "text": [
      "Original String: hello world!helloworld!hello world!hello world!\n",
      "Compress String: b'x\\x9c\\xcbH\\xcd\\xc9\\xc9W(\\xcf/\\xcaIQ\\xcc\\x00\\xb1\\x91\\x98\\n\\x98l\\x00\\xb2\\xe9\\x11\\xd5'\n",
      "Decompress String: hello world!helloworld!hello world!hello world!\n"
     ]
    }
   ],
   "source": [
    "#85  Please write a program to compress and decompress the string \"hello world!helloworld!hello world!hello world!\"\n",
    "import zlib\n",
    "string =\"hello world!helloworld!hello world!hello world!\"\n",
    "\n",
    "compress_string = zlib.compress(string.encode())\n",
    "\n",
    "decompressed_string = zlib.decompress(compress_string).decode()\n",
    "\n",
    "print(\"Original String:\",string)\n",
    "print(\"Compress String:\",compress_string)\n",
    "print(\"Decompress String:\",decompressed_string)"
   ]
  },
  {
   "cell_type": "code",
   "execution_count": 186,
   "id": "1e716f4f-9559-4de1-a8b3-3be22c116ed2",
   "metadata": {},
   "outputs": [
    {
     "name": "stdout",
     "output_type": "stream",
     "text": [
      "Element 8 found at index 4\n"
     ]
    }
   ],
   "source": [
    "#86Q binary search\n",
    "def binary_search(arr,x):\n",
    "    start = 0;end = len(lst)-1\n",
    "    \n",
    "    while(start <= end):\n",
    "        mid = (start+end)//2\n",
    "        if(arr[mid] == x):\n",
    "            return mid\n",
    "        elif arr[mid] > x:\n",
    "            end =mid - 1\n",
    "        else:\n",
    "            start=mid+1\n",
    "    return -1\n",
    "\n",
    "lst = [1,2,4,6,8,9,10,15,17,19]\n",
    "x = 8\n",
    "result = binary_search(lst,x)\n",
    "if result != -1:\n",
    "    print(f\"Element {x} found at index {result}\")\n",
    "else:\n",
    "    print(f\"Element {x} not found at index \")"
   ]
  },
  {
   "cell_type": "code",
   "execution_count": 200,
   "id": "731af21a-00ee-427a-9dc4-5d1e26903a22",
   "metadata": {},
   "outputs": [
    {
     "name": "stdin",
     "output_type": "stream",
     "text": [
      "Enter a value for n:  100\n"
     ]
    },
    {
     "name": "stdout",
     "output_type": "stream",
     "text": [
      "0,35,70\n"
     ]
    }
   ],
   "source": [
    "'''87Q Please write a program using generator to print the numbers which can be divisible\n",
    " by 5 and 7 between 0 and n in comma separated form while n is input by console'''\n",
    "\n",
    "def divisible_by_5_and_7(n):\n",
    "    for num in range(n + 1):\n",
    "        if num%5 == 0 and num%7 == 0:\n",
    "            yield num\n",
    "\n",
    "try:\n",
    "    n = int(input(\"Enter a value for n: \"))\n",
    "    result = divisible_by_5_and_7(n)\n",
    "    print(','.join(map(str, result)))\n",
    "except ValueError:\n",
    "    print(\"Invalid input. Please enter a valid integer for n.\")"
   ]
  },
  {
   "cell_type": "code",
   "execution_count": 202,
   "id": "5795036e-f207-43fe-8685-cc1218262738",
   "metadata": {},
   "outputs": [
    {
     "name": "stdin",
     "output_type": "stream",
     "text": [
      "Enter a value for n:  10\n"
     ]
    },
    {
     "name": "stdout",
     "output_type": "stream",
     "text": [
      "0,2,4,6,8,10\n"
     ]
    }
   ],
   "source": [
    "\"\"\"88Q Please write a program using generator to print the even numbers between 0 and n in\n",
    " comma separated form while n is input by console\"\"\"\n",
    "def even_numbers(n):\n",
    "    for num in range(0,n+1):\n",
    "        if num%2 == 0:\n",
    "            yield num\n",
    "try:\n",
    "    n = int(input(\"Enter a value for n: \"))\n",
    "    result = even_numbers(n)\n",
    "    print(','.join(map(str, result)))\n",
    "except ValueError:\n",
    "    print(\"Invalid input. Please enter a valid integer for n.\")"
   ]
  },
  {
   "cell_type": "code",
   "execution_count": 204,
   "id": "f06bbffb-6bfb-45c5-8fdd-39bf4065089d",
   "metadata": {},
   "outputs": [
    {
     "name": "stdin",
     "output_type": "stream",
     "text": [
      "Enter a value for n:  8\n"
     ]
    },
    {
     "name": "stdout",
     "output_type": "stream",
     "text": [
      "0,1,1,2,3,5,8,13\n"
     ]
    }
   ],
   "source": [
    "#89Q fibonacci sequence using list comprhemsion\n",
    "def fibonacci(n):\n",
    "    sequence = [0,1]\n",
    "    [sequence.append(sequence[-1]+sequence[-2]) for _ in range(2,n)]\n",
    "    return sequence\n",
    "try:\n",
    "    n = int(input(\"Enter a value for n: \"))\n",
    "    result = fibonacci(n)\n",
    "    print(','.join(map(str, result)))\n",
    "except ValueError:\n",
    "    print(\"Invalid input. Please enter a valid integer for n.\")"
   ]
  },
  {
   "cell_type": "code",
   "execution_count": 207,
   "id": "cf82d77c-9953-435c-9e63-40c518aae32b",
   "metadata": {},
   "outputs": [
    {
     "name": "stdin",
     "output_type": "stream",
     "text": [
      "Enter an email address:  john@giimx.com\n"
     ]
    },
    {
     "name": "stdout",
     "output_type": "stream",
     "text": [
      "john\n"
     ]
    }
   ],
   "source": [
    "#90Q write program to print the user name of a given email address. Both usernames and company names are composed of letters only\n",
    "def extract_names(email):\n",
    "    parts = email.split('@')\n",
    "    return parts[0]\n",
    "try:\n",
    "    email = input(\"Enter an email address: \")\n",
    "    username = extract_names(email)\n",
    "    print(username)\n",
    "except ValueError:\n",
    "    print(\"Invalid input. Please enter a valid email address.\")"
   ]
  },
  {
   "cell_type": "code",
   "execution_count": 211,
   "id": "5da40974-bce9-4235-a3bd-0da7e9d6c81d",
   "metadata": {},
   "outputs": [
    {
     "name": "stdin",
     "output_type": "stream",
     "text": [
      "Enter the shape of Square: 5\n"
     ]
    },
    {
     "name": "stdout",
     "output_type": "stream",
     "text": [
      "Area of Shape: 0\n",
      "Area of Square: 25.0\n"
     ]
    }
   ],
   "source": [
    "'''91Q  Define a class named Shape and its subclass Square. The Square class has an init\n",
    " function which takes a length as argument. Both classes have an area function which\n",
    " can print the area of the shape where Shape's area is 0 by default'''\n",
    "class Shape:\n",
    "    def __init__(self): #default constructor\n",
    "        pass\n",
    "    def area(self):\n",
    "        return 0  #shape area is return 0\n",
    "class Square(Shape):\n",
    "    def __init__(self,length):\n",
    "        super().__init__() #calling parent class\n",
    "        self.length = length\n",
    "    def area(self):\n",
    "        return self.length ** 2\n",
    "shape = Shape()\n",
    "square = Square(float(input(\"Enter the shape of Square:\")))\n",
    "\n",
    "print(\"Area of Shape:\",shape.area())\n",
    "print(\"Area of Square:\",square.area())"
   ]
  },
  {
   "cell_type": "code",
   "execution_count": 214,
   "id": "9929d755-b774-4009-b170-c0610ff2e4b1",
   "metadata": {},
   "outputs": [
    {
     "name": "stdout",
     "output_type": "stream",
     "text": [
      "in...in...incredible\n",
      "en...en...enthusiastic\n",
      "ou...ou...outstanding\n"
     ]
    }
   ],
   "source": [
    "'''92Q Write a function that stutters a word as if someone is struggling to read it. The first\n",
    " two letters are repeated twice with an ellipsis ... and space after each, and then the\n",
    " word is pronounced with a question mark ?'''\n",
    "def slutter(word):\n",
    "    if len(word) < 2:\n",
    "        return \"Word must be atleast two character string\"\n",
    "    sluttered_word = f\"{word[:2]}...{word[:2]}...{word[:]}\"\n",
    "    return sluttered_word\n",
    "print(slutter(\"incredible\"))\n",
    "print(slutter(\"enthusiastic\"))\n",
    "print(slutter(\"outstanding\"))"
   ]
  },
  {
   "cell_type": "code",
   "execution_count": 215,
   "id": "e8507633-44b2-4cb5-b1f4-dd40ee575ee6",
   "metadata": {},
   "outputs": [
    {
     "name": "stdout",
     "output_type": "stream",
     "text": [
      "57.3\n",
      "1145.9\n",
      "2864.8\n"
     ]
    }
   ],
   "source": [
    "'''93Q Create a function that takes an angle in radians and returns the corresponding angle\n",
    " in degrees rounded to one decimal place'''\n",
    "import math\n",
    "def radians_to_degrees(radians):\n",
    "    degrees = radians * (180/math.pi)\n",
    "    return round(degrees,1)\n",
    "print(radians_to_degrees(1))\n",
    "print(radians_to_degrees(20))\n",
    "print(radians_to_degrees(50))"
   ]
  },
  {
   "cell_type": "code",
   "execution_count": 220,
   "id": "c96590b9-c40f-45ff-9ce6-80845b168969",
   "metadata": {},
   "outputs": [
    {
     "name": "stdout",
     "output_type": "stream",
     "text": [
      "num must be positive number\n",
      "False\n",
      "True\n"
     ]
    }
   ],
   "source": [
    "'''94Q  In this challenge, establish if a given integer num is a Curzon number. If 1 plus 2\n",
    " elevated to num is exactly divisible by 1 plus 2 multiplied by num, then num is a\n",
    " Curzon number'''\n",
    "def is_Curzon_number(num):\n",
    "    if num< 0:\n",
    "        return \"num must be positive number\"\n",
    "    curzon_number = 2 ** num +1\n",
    "    divisible_by_num = 2 * num +1\n",
    "    return curzon_number%divisible_by_num == 0\n",
    "print(is_Curzon_number(-1))\n",
    "print(is_Curzon_number(10))\n",
    "print(is_Curzon_number(29))"
   ]
  },
  {
   "cell_type": "code",
   "execution_count": 222,
   "id": "de402009-9d19-4589-a42c-54bc961d882f",
   "metadata": {},
   "outputs": [
    {
     "name": "stdout",
     "output_type": "stream",
     "text": [
      "2.6\n",
      "10.4\n",
      "23.4\n"
     ]
    }
   ],
   "source": [
    "#95Q  Given the side length x find the area of a hexagon\n",
    "import math\n",
    "def area_of_hexagon(x):\n",
    "    area = (3 * math.sqrt(3)* x**2) /2\n",
    "    return round(area,1)\n",
    "print(area_of_hexagon(1))\n",
    "print(area_of_hexagon(2))\n",
    "print(area_of_hexagon(3))"
   ]
  },
  {
   "cell_type": "code",
   "execution_count": 223,
   "id": "c95450a1-4cc5-4eeb-b1b5-f97f1ae35979",
   "metadata": {},
   "outputs": [
    {
     "name": "stdout",
     "output_type": "stream",
     "text": [
      "1\n",
      "101\n",
      "1010\n"
     ]
    }
   ],
   "source": [
    "'''96Q  Create a function that returns a base-2 (binary) representation of a base-10 (decimal)\n",
    " string number. To convert is simple: ((2) means base-2 and (10) means base-10)\n",
    " 010101001(2) = 1 + 8 + 32 + 128 '''\n",
    "def binary_num(decimal):\n",
    "    bin_str = \"\"\n",
    "    while decimal > 0:\n",
    "        rem =decimal %2\n",
    "        bin_str = str(rem)+bin_str\n",
    "        decimal //=2\n",
    "    return bin_str if bin_str else '0'\n",
    "print(binary_num(1))\n",
    "print(binary_num(5))\n",
    "print(binary_num(10))\n",
    "    "
   ]
  },
  {
   "cell_type": "code",
   "execution_count": 229,
   "id": "978de18d-2558-4989-b5e6-d0a79931ceff",
   "metadata": {},
   "outputs": [
    {
     "name": "stdout",
     "output_type": "stream",
     "text": [
      "0\n",
      "30\n",
      "18\n"
     ]
    }
   ],
   "source": [
    "'''97Q  Create a function that takes three arguments a, b, c and returns the sum of the\n",
    " numbers that are evenly divided by c from the range a, b inclusive'''\n",
    "def evenly_divisible(a, b, c):\n",
    "    total = 0\n",
    "    for num in range(a, b + 1):\n",
    "        if num % c == 0:\n",
    "            total += num\n",
    "    return total\n",
    "print(evenly_divisible(1,10,20))\n",
    "print(evenly_divisible(1,10,2))\n",
    "print(evenly_divisible(1,10,3))"
   ]
  },
  {
   "cell_type": "code",
   "execution_count": 231,
   "id": "1f6ef2d7-385e-4831-b364-cf494abef8fb",
   "metadata": {},
   "outputs": [
    {
     "name": "stdout",
     "output_type": "stream",
     "text": [
      "True\n",
      "False\n",
      "True\n"
     ]
    }
   ],
   "source": [
    "#98Q Create a function that returns True if a given inequality expression is correct and False otherwise\n",
    "def correct_signs(expression):\n",
    "    try:\n",
    "        return eval(expression)\n",
    "    except:\n",
    "        return False\n",
    "print(correct_signs(\"3 < 7 < 11\"))\n",
    "print(correct_signs(\"13 > 44 > 33 < 1\"))\n",
    "print(correct_signs(\"1 < 2 < 6 < 9 > 3\"))"
   ]
  },
  {
   "cell_type": "code",
   "execution_count": 233,
   "id": "de590f1d-fbec-4850-8f86-06746493591b",
   "metadata": {},
   "outputs": [
    {
     "name": "stdout",
     "output_type": "stream",
     "text": [
      "th# ##rdv#rk\n",
      "m?nn?? m??s?\n",
      "sh*k*sp**r*\n"
     ]
    }
   ],
   "source": [
    "#99Q Create a function that replaces all the vowels in a string with a specified character\n",
    "def replace_vowels(string,char):\n",
    "    vowels = 'AEIOUaeiou'\n",
    "    for vowel in vowels:\n",
    "        string = string.replace(vowel,char)\n",
    "    return string\n",
    "print(replace_vowels(\"the aardvark\", \"#\"))\n",
    "print(replace_vowels(\"minnie mouse\", \"?\"))\n",
    "print(replace_vowels(\"shakespeare\", \"*\"))"
   ]
  },
  {
   "cell_type": "code",
   "execution_count": 240,
   "id": "e94bffe0-7878-4380-8ec4-5ad131ad3293",
   "metadata": {},
   "outputs": [
    {
     "name": "stdout",
     "output_type": "stream",
     "text": [
      "Factorial of 5 is:120.\n",
      "Factorial of 3 is:6.\n",
      "Factorial of 1 is:1.\n"
     ]
    }
   ],
   "source": [
    "#100Q recurse factorial\n",
    "def fact(n):\n",
    "    if n == 0 or n==1:\n",
    "        return n\n",
    "    else:\n",
    "        return n* fact(n-1)\n",
    "# n = int(input(\"Enter a number:\"))\n",
    "# res = fact(n)\n",
    "print(\"Factorial of 5 is:{}.\".format(fact(5)))\n",
    "print(\"Factorial of 3 is:{}.\".format(fact(3)))\n",
    "print(\"Factorial of 1 is:{}.\".format(fact(1)))"
   ]
  },
  {
   "cell_type": "code",
   "execution_count": 242,
   "id": "3e003a2e-4e1c-4a09-99f0-f589f46e0a9a",
   "metadata": {},
   "outputs": [
    {
     "name": "stdout",
     "output_type": "stream",
     "text": [
      "5\n",
      "0\n",
      "1\n"
     ]
    }
   ],
   "source": [
    "#101Q Hamming distance is the number of characters that differ between two strings\n",
    "def hamming_distance(str1,str2):\n",
    "    if len(str1) != len(str2):\n",
    "        return ValueError(\"Input strings must have equal strings\")\n",
    "    distance =0\n",
    "    for i in range(len(str1)):\n",
    "        if str1[i] != str2[i]:\n",
    "            distance += 1\n",
    "    return distance\n",
    "print(hamming_distance(\"abcde\", \"bcdef\"))\n",
    "print(hamming_distance(\"abcde\", \"abcde\"))\n",
    "print(hamming_distance(\"strong\", \"strung\"))"
   ]
  },
  {
   "cell_type": "code",
   "execution_count": 248,
   "id": "43021837-4dc0-4dd6-a9a5-dde8522b58b2",
   "metadata": {},
   "outputs": [
    {
     "name": "stdout",
     "output_type": "stream",
     "text": [
      "[1, 2]\n",
      "[0, 2]\n",
      "[10, 20, 0]\n"
     ]
    }
   ],
   "source": [
    "#102Q Create a function that takes a list of non-negative integers and strings and return a new list without the strings\n",
    "def filter_list(lst):\n",
    "    result = []\n",
    "    for ele in lst:\n",
    "        if isinstance(ele,int) and ele>=0:\n",
    "            result.append(ele)\n",
    "    return result\n",
    "print(filter_list([1, 2, \"a\", \"b\"]))\n",
    "print(filter_list([-1,0, 2, \"a\", \"b\"]))\n",
    "print(filter_list([10, 20,0, \"a\", \"b\"]))"
   ]
  },
  {
   "cell_type": "code",
   "execution_count": 255,
   "id": "8916fbb0-5ce6-43e9-9c48-932258e882df",
   "metadata": {},
   "outputs": [
    {
     "name": "stdout",
     "output_type": "stream",
     "text": [
      "DLROw OLLEh\n",
      "eSrEvEr\n",
      "RaDAr\n"
     ]
    }
   ],
   "source": [
    "#103Q The \"Reverser\" takes a string as input and returns that string in reverse order, with the opposite case \n",
    "def reverse(word):\n",
    "    new_str = \"\"\n",
    "    for char in word:\n",
    "        if char.islower():\n",
    "            new_str += char.upper()\n",
    "        elif char.isupper():\n",
    "            new_str += char.lower()\n",
    "        else:\n",
    "            new_str += char\n",
    "    return new_str[::-1]\n",
    "print(reverse(\"Hello World\"))\n",
    "print(reverse(\"ReVeRsE\"))\n",
    "\n",
    "#method:2\n",
    "word1 =\"RadAr\"\n",
    "reversed_str = word1[::-1].swapcase()\n",
    "print(reversed_str)"
   ]
  },
  {
   "cell_type": "code",
   "execution_count": 263,
   "id": "d2afaeb6-8364-44df-8678-593ca5a74f90",
   "metadata": {},
   "outputs": [
    {
     "name": "stdout",
     "output_type": "stream",
     "text": [
      "Method1 Unpacked\n",
      "1 [2, 3, 4, 5] 6\n",
      "Method2 slicing\n",
      "1 [2, 3, 4, 5] 6\n"
     ]
    }
   ],
   "source": [
    "#104Q  You can assign variables from lists like this\n",
    "lst = [1,2,3,4,5,6]\n",
    "#method1 unpacked\n",
    "first,*middle,last = lst\n",
    "print(\"Method1 Unpacked\")\n",
    "print(first,middle,last)\n",
    "\n",
    "print(\"Method2 slicing\")\n",
    "first,middle,last=lst[0],lst[1:-1],lst[-1]\n",
    "print(first,middle,last)\n"
   ]
  },
  {
   "cell_type": "code",
   "execution_count": 264,
   "id": "9a132130-2a48-4d65-b093-96e4ceb89e28",
   "metadata": {},
   "outputs": [
    {
     "name": "stdout",
     "output_type": "stream",
     "text": [
      "120\n"
     ]
    }
   ],
   "source": [
    "#105Q factorial using recurssion\n",
    "def fact(n):\n",
    "    if n ==0:\n",
    "        return 1\n",
    "    return n*fact(n-1)\n",
    "print(fact(5))"
   ]
  },
  {
   "cell_type": "code",
   "execution_count": 279,
   "id": "883c2a84-e747-43da-b7ca-c0a8fa996c19",
   "metadata": {},
   "outputs": [
    {
     "name": "stdout",
     "output_type": "stream",
     "text": [
      "[3, 2, 4, 4, 1, 1]\n",
      "[7, 8, 1, 2, 3, 4, 9]\n",
      "['b', 'a', 'a', 'a']\n"
     ]
    }
   ],
   "source": [
    "#106Q  Write a function that moves all elements of one type to the end of the list\n",
    "def move_to_end(lst,element):\n",
    "    count = lst.count(element)\n",
    "    lst = [x for x in lst if x != element]\n",
    "    lst.extend([element] * count)\n",
    "    return lst\n",
    "print(move_to_end([1,3,2,4,4,1],1))\n",
    "print(move_to_end([7,8,9,1,2,3,4],9))\n",
    "print(move_to_end([\"a\",\"a\",\"b\",\"a\"],\"a\"))"
   ]
  },
  {
   "cell_type": "code",
   "execution_count": 283,
   "id": "bafaa7c6-71e8-4ccf-a4a2-b1c792dde1ee",
   "metadata": {},
   "outputs": [
    {
     "name": "stdout",
     "output_type": "stream",
     "text": [
      "ssttrriinngg\n",
      "HHeelllloo  WWoorrlldd!!\n",
      "11223344!!\n"
     ]
    }
   ],
   "source": [
    "#107Q Create a function that takes a string and returns a string in which each character is repeated once\n",
    "def double_char(input_str):\n",
    "    doubled_str =\"\"\n",
    "    for char in input_str:\n",
    "        doubled_str += char * 2\n",
    "    return doubled_str\n",
    "\n",
    "print(double_char(\"string\"))\n",
    "print(double_char(\"Hello World!\"))\n",
    "print(double_char(\"1234!\"))"
   ]
  },
  {
   "cell_type": "code",
   "execution_count": 288,
   "id": "65246bc9-5027-4b3e-9473-0b2d1a7f8261",
   "metadata": {},
   "outputs": [
    {
     "name": "stdout",
     "output_type": "stream",
     "text": [
      "False\n",
      "True\n",
      "boolean excepted\n",
      "boolean excepted\n"
     ]
    }
   ],
   "source": [
    "#108Q Create a function that reverses a boolean value and returns the string \"boolean expected\" if another variable type is given\n",
    "def reverse(value):\n",
    "    if isinstance(value,bool):\n",
    "        return not value\n",
    "    else:\n",
    "        return \"boolean excepted\"\n",
    "print(reverse(True))\n",
    "print(reverse(False))\n",
    "print(reverse(0))\n",
    "print(reverse(\"hd\"))"
   ]
  },
  {
   "cell_type": "code",
   "execution_count": 293,
   "id": "61d3f848-80eb-4fa4-92d6-a78717961f5c",
   "metadata": {},
   "outputs": [
    {
     "name": "stdout",
     "output_type": "stream",
     "text": [
      "0.001m\n",
      "0.008m\n",
      "1048.576m\n"
     ]
    }
   ],
   "source": [
    "'''#109Q Create a function that returns the thickness (in meters) of a piece of paper after\n",
    " folding it n number of times. The paper starts off with a thickness of 0.5mm.'''\n",
    "def num_layers(n):\n",
    "    initial_thickness_mm = 0.5  # Initial thickness in millimeters\n",
    "    final_thickness_mm = initial_thickness_mm * (2 ** n)\n",
    "    final_thickness_m = final_thickness_mm / 1000  # Convert millimeter\n",
    "    return f\"{final_thickness_m:.3f}m\"\n",
    "\n",
    "print(num_layers(1))\n",
    "print(num_layers(4))\n",
    "print(num_layers(21))"
   ]
  },
  {
   "cell_type": "code",
   "execution_count": 302,
   "id": "72178641-86b5-4804-8e08-d1c0112c36bf",
   "metadata": {},
   "outputs": [
    {
     "name": "stdout",
     "output_type": "stream",
     "text": [
      "[1, 3, 5]\n",
      "[1, 3, 4, 6]\n",
      "[]\n"
     ]
    }
   ],
   "source": [
    "'''#110Q  Create a function that takes a single string as argument and returns an ordered list\n",
    " containing the indices of all capital letters in the string'''\n",
    "def capital_letter(word):\n",
    "    count = [i for i,char in enumerate(word) if char.isupper()]\n",
    "    return count\n",
    "print(capital_letter(\"eDaBiT\"))\n",
    "print(capital_letter(\"eQuLNoX\"))\n",
    "print(capital_letter(\"determine\"))"
   ]
  },
  {
   "cell_type": "code",
   "execution_count": 306,
   "id": "93b6b170-8576-440f-8d2c-641404968b0d",
   "metadata": {},
   "outputs": [
    {
     "name": "stdout",
     "output_type": "stream",
     "text": [
      "[2, 4, 6, 8]\n",
      "[2, 4]\n",
      "[2]\n"
     ]
    }
   ],
   "source": [
    "#111Q Using list comprehensions, create a function that finds all even numbers from 1 to the given number\n",
    "def even_numbers(n):\n",
    "    even =[num for num in range(1,n+1) if num%2 ==0]\n",
    "    return even\n",
    "print(even_numbers(8))\n",
    "print(even_numbers(4))\n",
    "print(even_numbers(2))"
   ]
  },
  {
   "cell_type": "code",
   "execution_count": 311,
   "id": "a8e5fdea-bdbb-4b8f-80bd-6ae03eb7859d",
   "metadata": {},
   "outputs": [
    {
     "name": "stdout",
     "output_type": "stream",
     "text": [
      "[1, 2, 3, 4]\n",
      "[0, 1729, 1729]\n",
      "[]\n"
     ]
    }
   ],
   "source": [
    "'''#112Q Create a function that takes a list of strings and integers, and filters out the list so\n",
    " that it returns a list of integers only'''\n",
    "def filter_lst(lst):\n",
    "    result = [num for num in lst if isinstance(num,int)]\n",
    "    return result\n",
    "print(filter_lst([1,2,3,'a','b',4]))\n",
    "print(filter_lst([\"A\", 0, \"Edabit\", 1729, \"Python\", 1729]))\n",
    "print(filter_lst([\"Nothing\", \"here\"]))"
   ]
  },
  {
   "cell_type": "code",
   "execution_count": 313,
   "id": "e2b88ee7-6e88-4fa1-9f22-647d2258d392",
   "metadata": {},
   "outputs": [
    {
     "name": "stdout",
     "output_type": "stream",
     "text": [
      "[0, 1, 2, 3, 4]\n",
      "[1, 3, 5, 7, 9]\n",
      "[5, 5, 5, 5, 5]\n"
     ]
    }
   ],
   "source": [
    "'''#113Q Given a list of numbers, create a function which returns the list but with each\n",
    " element's index in the list added to itself. This means you add 0 to the number at\n",
    " index 0, add 1 to the number at index 1, etc..'''\n",
    "def add_ele_ind(lst):\n",
    "    res = [ind+val for ind,val in enumerate(lst)]\n",
    "    return res\n",
    "print(add_ele_ind([0,0,0,0,0]))\n",
    "print(add_ele_ind([1,2,3,4,5]))\n",
    "print(add_ele_ind([5,4,3,2,1]))"
   ]
  },
  {
   "cell_type": "code",
   "execution_count": 315,
   "id": "924297cd-283a-483e-b9b4-8432ee8e54c5",
   "metadata": {},
   "outputs": [
    {
     "name": "stdout",
     "output_type": "stream",
     "text": [
      "12.57\n",
      "565.49\n",
      "0\n"
     ]
    }
   ],
   "source": [
    "'''#114Q Create a function that takes the height and radius of a cone as arguments and returns\n",
    " the volume of the cone rounded to the nearest hundredth. See the resources tab for\n",
    " the formula.'''\n",
    "import math\n",
    "def cone_volume(height, radius):\n",
    "    if radius == 0:\n",
    "        return 0\n",
    "    volume = (1/3) * math.pi * (radius**2) * height\n",
    "    return round(volume, 2)\n",
    "print(cone_volume(3,2))\n",
    "print(cone_volume(15,6))\n",
    "print(cone_volume(18,0))"
   ]
  },
  {
   "cell_type": "code",
   "execution_count": 316,
   "id": "6cea3289-6c52-4eac-8ecc-b3486268698e",
   "metadata": {},
   "outputs": [
    {
     "name": "stdout",
     "output_type": "stream",
     "text": [
      "1\n",
      "21\n",
      "23220\n"
     ]
    }
   ],
   "source": [
    "'''#115Q This Triangular Number Sequence is generated from a pattern of dots that form a\n",
    " triangle. The first 5 numbers of the sequence, or dots, are:\n",
    " 1, 3, 6, 10, 15\n",
    " This means that the first triangle has just one dot, the second one has three dots, the\n",
    " third one has 6 dots and so on.\n",
    " Write a function that gives the number of dots with its corresponding triangle number\n",
    " of the sequence.'''\n",
    "def triangle(n):\n",
    "    if n < 1:\n",
    "        return n\n",
    "    return n * (n+1)//2\n",
    "print(triangle(1))\n",
    "print(triangle(6))\n",
    "print(triangle(215))"
   ]
  },
  {
   "cell_type": "code",
   "execution_count": 318,
   "id": "c5ba0886-b578-410f-bca8-e1a9f558b233",
   "metadata": {},
   "outputs": [
    {
     "name": "stdout",
     "output_type": "stream",
     "text": [
      "4\n",
      "1\n",
      "10\n"
     ]
    }
   ],
   "source": [
    "#116Q  Create a function that takes a list of numbers between 1 and 10 (excluding one number) and returns the missing number\n",
    "def missing_number(lst):\n",
    "    total_sum = sum(range(1,11))\n",
    "    lst_sum = sum(lst)\n",
    "    missing = total_sum - lst_sum\n",
    "    return missing\n",
    "print(missing_number([1,2,3,5,6,7,8,9,10]))\n",
    "print(missing_number([2,3,4,5,6,7,8,9,10]))\n",
    "print(missing_number([9,1,2,3,4,5,7,8,6]))"
   ]
  },
  {
   "cell_type": "code",
   "execution_count": 321,
   "id": "ff070f9f-584a-46ff-923a-375c2e2c5e81",
   "metadata": {},
   "outputs": [
    {
     "name": "stdout",
     "output_type": "stream",
     "text": [
      "[6, 7, 8, 9, 1]\n",
      "[6, 3, 23, 17, 10]\n",
      "[10, 23, 40, 9]\n",
      "No list has been selected\n"
     ]
    }
   ],
   "source": [
    "''' #117Q  Write a function that takes a list and a number as arguments. Add the number to the\n",
    " end of the list, then remove the first element of the list. The function should then\n",
    " return the updated list.'''\n",
    "def next_in_line(lst,num):\n",
    "    if lst:\n",
    "        lst.pop(0)\n",
    "        lst.append(num)\n",
    "        return lst\n",
    "    else:\n",
    "        return \"No list has been selected\"\n",
    "print(next_in_line([5,6,7,8,9],1))\n",
    "print(next_in_line([7,6,3,23,17],10))\n",
    "print(next_in_line([1,10,23,40],9))\n",
    "print(next_in_line([],9))"
   ]
  },
  {
   "cell_type": "code",
   "execution_count": 323,
   "id": "e422a6a5-6100-4c0f-9c86-abc7203af326",
   "metadata": {},
   "outputs": [
    {
     "name": "stdout",
     "output_type": "stream",
     "text": [
      "65700\n",
      "62600\n"
     ]
    }
   ],
   "source": [
    "#118Q  Create the function that takes a list of dictionaries and returns the sum of people's budgets\n",
    "def get_budgets(lst):\n",
    "    total_budget = sum(person['budget'] for person in lst)\n",
    "    return total_budget\n",
    "# Test cases\n",
    "budgets1 = [\n",
    "{'name': 'John', 'age': 21, 'budget': 23000},\n",
    "{'name': 'Steve', 'age': 32, 'budget': 40000},\n",
    "{'name': 'Martin', 'age': 16, 'budget': 2700}\n",
    "]\n",
    "budgets2 = [\n",
    "{'name': 'John', 'age': 21, 'budget': 29000},\n",
    "{'name': 'Steve', 'age': 32, 'budget': 32000},\n",
    "{'name': 'Martin', 'age': 16, 'budget': 1600}\n",
    "]\n",
    "print(get_budgets(budgets1))\n",
    "print(get_budgets(budgets2))"
   ]
  },
  {
   "cell_type": "code",
   "execution_count": 325,
   "id": "7ff8511d-5711-41db-96f6-0301881670a1",
   "metadata": {},
   "outputs": [
    {
     "name": "stdout",
     "output_type": "stream",
     "text": [
      "ehllo\n",
      "aegprs\n",
      "aajv\n",
      "hnopty\n"
     ]
    }
   ],
   "source": [
    "#119Q  Create a function that takes a string and returns a string with its letters in alphabetical order\n",
    "def sort_alp(string):\n",
    "    return \"\".join(sorted(string))\n",
    "print(sort_alp(\"hello\"))\n",
    "print(sort_alp(\"grapes\"))\n",
    "print(sort_alp(\"java\"))\n",
    "print(sort_alp(\"python\"))"
   ]
  },
  {
   "cell_type": "code",
   "execution_count": 330,
   "id": "cafd89e0-dd5d-4b1a-a7d3-01daea2000fb",
   "metadata": {},
   "outputs": [
    {
     "name": "stdout",
     "output_type": "stream",
     "text": [
      "348911.99\n",
      "150.0\n"
     ]
    }
   ],
   "source": [
    "'''#120Q Suppose that you invest $10,000 for 10 years at an interest rate of 6% compounded\n",
    " monthly. What will be the value of your investment at the end of the 10 year period?\n",
    " Create a function that accepts the principal p, the term in years t, the interest rate r,\n",
    " and the number of compounding periods per year n. The function returns the value at\n",
    " the end of term rounded to the nearest cent '''\n",
    "def compound_intrest(p, t, r, n):\n",
    "# Calculate the compound interest using the formula\n",
    "    a = p * (1 + (r / n)) ** (n * t)\n",
    "    # Round the result to the nearest cent\n",
    "    return round(a, 2)\n",
    "print(compound_intrest(1000,10,0.6,12))\n",
    "print(compound_intrest(100,1,0.5,1))"
   ]
  },
  {
   "cell_type": "code",
   "execution_count": 332,
   "id": "5d28ce90-c443-4dde-8747-4edf28317b53",
   "metadata": {},
   "outputs": [
    {
     "name": "stdout",
     "output_type": "stream",
     "text": [
      "[9, 2, 16]\n",
      "[81, 123]\n",
      "[10, 56, 20, 3]\n",
      "[1]\n"
     ]
    }
   ],
   "source": [
    "#121Q Write a function that takes a list of elements and returns only the integers\n",
    "def int_list(lst):\n",
    "    res = [num for num in lst if isinstance(num,int) and not isinstance(num,bool)]\n",
    "    return res\n",
    "print(int_list([9, 2, \"space\", \"car\", \"lion\", 16]))\n",
    "print(int_list([\"hello\", 81, \"basketball\", 123, \"fox\"]))\n",
    "print(int_list([10, \"121\", 56, 20, \"car\", 3, \"lion\"]))\n",
    "print(int_list([\"String\", True, 3.3, 1]))"
   ]
  },
  {
   "cell_type": "code",
   "execution_count": 334,
   "id": "f01e8b1f-f95d-4311-acbc-c7fccbb4c2d0",
   "metadata": {},
   "outputs": [
    {
     "name": "stdout",
     "output_type": "stream",
     "text": [
      "[3, 6, 9]\n",
      "[8]\n",
      "[]\n"
     ]
    }
   ],
   "source": [
    "#122Q Create a function that takes three parameters where\n",
    "def divisible_by_para(x,y,z):\n",
    "    return [i for i in range(x,y) if i%z == 0]\n",
    "print(divisible_by_para(1,10,3))  \n",
    "print(divisible_by_para(7,9,2))  \n",
    "print(divisible_by_para(15,20,7))  "
   ]
  },
  {
   "cell_type": "code",
   "execution_count": 335,
   "id": "3c2665e7-c308-49df-9d89-b48759cd69f9",
   "metadata": {},
   "outputs": [
    {
     "name": "stdout",
     "output_type": "stream",
     "text": [
      "True\n",
      "False\n",
      "True\n",
      "False\n"
     ]
    }
   ],
   "source": [
    "'''#123Q Create a function that takes in two lists and returns True if the second list follows the\n",
    " first list by one element, and False otherwise. In other words, determine if the second\n",
    " list is the first list shifted to the right by 1'''\n",
    " \n",
    "def simon_says(list1, list2):\n",
    "# Check if the second list is the first list shifted to the right b\n",
    "    return list1[:-1] == list2[1:]\n",
    "    \n",
    "print(simon_says([1, 2], [5, 1]))\n",
    "print(simon_says([1, 2], [5, 5]))\n",
    "print(simon_says([1, 2, 3, 4, 5], [0, 1, 2, 3, 4]))\n",
    "print(simon_says([1, 2, 3, 4, 5], [5, 5, 1, 2, 3])) "
   ]
  },
  {
   "cell_type": "code",
   "execution_count": 342,
   "id": "a583131f-8575-4aab-a199-fd581c9c8d3a",
   "metadata": {},
   "outputs": [
    {
     "name": "stdout",
     "output_type": "stream",
     "text": [
      "AMS\n",
      "CHLN\n",
      "CJMPRR\n"
     ]
    }
   ],
   "source": [
    "'''124Q A group of friends have decided to start a secret society. The name will be the first\n",
    " letter of each of their names, sorted in alphabetical order. Create a function that takes\n",
    " in a list of names and returns the name of the secret society.'''\n",
    "def sorted_first(names):\n",
    "     # Extract the first letter of each name, sort them, and join into a\n",
    "    secret_name = \"\".join(sorted([name[0] for name in names]))\n",
    "    return secret_name\n",
    "print(sorted_first([\"Adam\", \"Sarah\", \"Malcolm\"]))\n",
    "print(sorted_first([\"Harry\", \"Newt\", \"Luna\", \"Cho\"]))\n",
    "print(sorted_first([\"Phoebe\", \"Chandler\", \"Rachel\", \"Ross\", \"Monica\", \"Joey\"]))"
   ]
  },
  {
   "cell_type": "code",
   "execution_count": 345,
   "id": "947f3bbe-9351-489c-ba39-a6b0af89b373",
   "metadata": {},
   "outputs": [
    {
     "name": "stdout",
     "output_type": "stream",
     "text": [
      "True\n",
      "True\n",
      "False\n"
     ]
    }
   ],
   "source": [
    "'''125Q An isogram is a word that has no duplicate letters. Create a function that takes a\n",
    " string and returns either True or False depending on whether or not it's an \"isogram\" '''\n",
    "def is_isogram(word):\n",
    "    word = word.lower()\n",
    "    # Create a set to store unique letters in the word\n",
    "    unique_letters = set()\n",
    "    for letter in word:\n",
    "     # If the letter is already in the set, it's not an isogram\n",
    "        if letter in unique_letters:\n",
    "            return False\n",
    "     # Otherwise, add it to the set\n",
    "        unique_letters.add(letter)\n",
    "    return True\n",
    "print(is_isogram(\"algorithm\"))\n",
    "print(is_isogram(\"python\"))\n",
    "print(is_isogram(\"programm\"))"
   ]
  },
  {
   "cell_type": "code",
   "execution_count": 347,
   "id": "dd5c8367-4c84-48aa-a817-eecf5bbd2078",
   "metadata": {},
   "outputs": [
    {
     "name": "stdout",
     "output_type": "stream",
     "text": [
      "True\n",
      "False\n",
      "True\n"
     ]
    }
   ],
   "source": [
    "'''126Q Create a function that takes a string and returns True or False, depending on whether\n",
    " the characters are in order or not '''\n",
    "def is_in_order(s):\n",
    "    return s == ''.join(sorted(s))\n",
    "print(is_in_order(\"abc\"))\n",
    "print(is_in_order(\"bac\"))\n",
    "print(is_in_order(\"1234\"))"
   ]
  },
  {
   "cell_type": "code",
   "execution_count": 4,
   "id": "0e01708a-9866-4bba-99e5-eb4e8a6420f1",
   "metadata": {},
   "outputs": [
    {
     "name": "stdout",
     "output_type": "stream",
     "text": [
      "True\n",
      "False\n",
      "True\n",
      "False\n",
      "True\n"
     ]
    }
   ],
   "source": [
    "'''127Q Create a function that takes a number as an argument and returns True or False\n",
    " depending on whether the number is symmetrical or not. A number is symmetrical\n",
    " when it is the same as its reverse.'''\n",
    "\n",
    "def is_symmetrical(num):\n",
    "    str_num = str(num)\n",
    "    return str_num == str_num[::-1]\n",
    "print(is_symmetrical(7227))\n",
    "print(is_symmetrical(12567))\n",
    "print(is_symmetrical(444444))\n",
    "print(is_symmetrical(9393))\n",
    "print(is_symmetrical(1112111))"
   ]
  },
  {
   "cell_type": "code",
   "execution_count": 23,
   "id": "0958b05d-563a-42f4-b201-3c278d40581b",
   "metadata": {},
   "outputs": [
    {
     "name": "stdout",
     "output_type": "stream",
     "text": [
      "6\n",
      "24\n",
      "0\n"
     ]
    }
   ],
   "source": [
    "#128Q Given a string of numbers separated by a comma and space, return the product of the numbers\n",
    "def product_nums(string):\n",
    "    res = [int(num) for num in string.split(\",\")]\n",
    "    product =1\n",
    "    for i in res:\n",
    "        product *= i\n",
    "    return product\n",
    "print(product_nums(\"2,3\"))\n",
    "print(product_nums(\"1,2,3,4\"))\n",
    "print(product_nums(\"54,75,453,0\"))"
   ]
  },
  {
   "cell_type": "code",
   "execution_count": 44,
   "id": "e8cba0c9-c581-4d16-b70a-fd8b700164b7",
   "metadata": {},
   "outputs": [
    {
     "name": "stdout",
     "output_type": "stream",
     "text": [
      "811181\n",
      "416649\n",
      "9414\n"
     ]
    }
   ],
   "source": [
    "#129Q  Create a function that squares every digit of a number.\n",
    "def square_num(num):\n",
    "    num_str = str(num)\n",
    "    result_str = \"\"\n",
    "    for num in num_str:\n",
    "        square_digit = int(num) ** 2\n",
    "        result_str += str(square_digit)\n",
    "    return result_str\n",
    "print(square_num(9119))\n",
    "print(square_num(2483) )\n",
    "print(square_num(3212) )"
   ]
  },
  {
   "cell_type": "code",
   "execution_count": 51,
   "id": "1c67960d-5651-46e0-b0da-76c7e4686eb6",
   "metadata": {},
   "outputs": [
    {
     "name": "stdout",
     "output_type": "stream",
     "text": [
      "[1, 3, 5]\n",
      "[4]\n",
      "[5, 7, 8, 9, 10, 15]\n",
      "[1, 2, 3]\n"
     ]
    }
   ],
   "source": [
    "#130Q Create a function that sorts a list and removes all duplicate items from it\n",
    "def setify(lst):\n",
    "    duplicate_set = set(lst)\n",
    "    update_lst = list(sorted(duplicate_set))\n",
    "    return update_lst\n",
    "print(setify([1,3,3,5,5])) \n",
    "print(setify([4,4,4,4])) \n",
    "print(setify([5,7,8,9,10,15])) \n",
    "print(setify([3,3,3,2,1])) "
   ]
  },
  {
   "cell_type": "code",
   "execution_count": 69,
   "id": "5044bed5-3197-48a4-a615-c010154bfc2e",
   "metadata": {},
   "outputs": [
    {
     "name": "stdout",
     "output_type": "stream",
     "text": [
      "3\n",
      "3\n",
      "6\n"
     ]
    }
   ],
   "source": [
    "#131Q Create a function that returns the mean of all digits\n",
    "def mean(num):\n",
    "    num_str = str(num)\n",
    "    total =0\n",
    "    ind = 0\n",
    "    for num in num_str:\n",
    "        total += int(num)\n",
    "        ind+=1\n",
    "    return total//ind\n",
    "print(mean(42))\n",
    "print(mean(12345))\n",
    "print(mean(666))"
   ]
  },
  {
   "cell_type": "code",
   "execution_count": 73,
   "id": "4f4d4204-fbb8-4f83-8c04-a78c4a747625",
   "metadata": {},
   "outputs": [
    {
     "name": "stdout",
     "output_type": "stream",
     "text": [
      "[1, 2, 3, 40]\n",
      "[1, 2, 3]\n",
      "[1, 2, 3, 40, 5, 6, 7, 80, 9, 10, 11, 120, 13, 14, 15, 160, 17, 18, 19, 200, 21, 22, 23, 240, 25]\n"
     ]
    }
   ],
   "source": [
    "'''132Q  Create a function that takes an integer and returns a list from 1 to the given number,\n",
    " 1. If the number can be divided evenly by 4, amplify it by 10 (i.e. return 10 times the\n",
    " number).\n",
    " 2. If the number cannot be divided evenly by 4, simply return the number '''\n",
    "\n",
    "def amplify(num):\n",
    "    return [num * 10  if num%4 == 0 else num for num in range(1,num+1)]\n",
    "print(amplify(4))\n",
    "print(amplify(3))\n",
    "print(amplify(25))"
   ]
  },
  {
   "cell_type": "code",
   "execution_count": 75,
   "id": "f0a31d88-7b88-41a2-b823-2790ebded1af",
   "metadata": {},
   "outputs": [
    {
     "name": "stdout",
     "output_type": "stream",
     "text": [
      "7\n",
      "0.7\n",
      "0\n"
     ]
    }
   ],
   "source": [
    "#133Q Create a function that takes a list of numbers and return the number that's unique\n",
    "def unique(lst):\n",
    "    count_dict ={}\n",
    "    for num in lst:\n",
    "        if num in count_dict:\n",
    "            count_dict[num] += 1\n",
    "        else:\n",
    "            count_dict[num]=1\n",
    "    for num,count in count_dict.items():\n",
    "        if count == 1:\n",
    "            return num\n",
    "\n",
    "print(unique([3,3,7,3,3]))\n",
    "print(unique([0,0,0.7,0]))\n",
    "print(unique([0,1,1,1,1]))"
   ]
  },
  {
   "cell_type": "code",
   "execution_count": 85,
   "id": "4da991c6-b8bb-421f-b554-a381b7e74c0a",
   "metadata": {},
   "outputs": [
    {
     "name": "stdout",
     "output_type": "stream",
     "text": [
      "380\n",
      "69\n",
      "62\n",
      "28\n"
     ]
    }
   ],
   "source": [
    "'''#134Q Your task is to create a Circle constructor that creates a circle with a radius provided\n",
    " by an argument. The circles constructed must have two getters getArea() (PIr^2) and\n",
    " getPerimeter() (2PI*r) which give both respective areas and perimeter\n",
    " (circumference) '''\n",
    "import math \n",
    "class Circle:\n",
    "    def __init__(self,radius):\n",
    "        self.radius = radius\n",
    "    def getArea(self):\n",
    "        return round(math.pi * self.radius ** 2)\n",
    "    def getPerimeter(self):\n",
    "        return round(math.pi * 2 *self.radius)\n",
    "circy = Circle(11)\n",
    "print(circy.getArea())\n",
    "print(circy.getPerimeter())\n",
    "\n",
    "circy = Circle(4.44)\n",
    "print(circy.getArea())\n",
    "print(circy.getPerimeter())\n",
    "        "
   ]
  },
  {
   "cell_type": "code",
   "execution_count": 90,
   "id": "0638abc9-8264-4540-a144-435a5ed4a3bd",
   "metadata": {},
   "outputs": [
    {
     "name": "stdout",
     "output_type": "stream",
     "text": [
      "['Apple', 'Google', 'Microsoft']\n",
      "['Raphael', 'Leonardo', 'Donatello', 'Michelangelo']\n",
      "['Jung', 'Turing', 'Einstein']\n"
     ]
    }
   ],
   "source": [
    "#135Q Create a function that takes a list of strings and return a list, sorted from shortest to longest\n",
    "def sort_by_length(lst):\n",
    "   return sorted(lst,key=len)\n",
    "    \n",
    "print(sort_by_length([\"Google\", \"Apple\", \"Microsoft\"]))\n",
    "print(sort_by_length([\"Leonardo\", \"Michelangelo\", \"Raphael\", \"Donatello\"]) )\n",
    "print(sort_by_length([\"Turing\", \"Einstein\", \"Jung\"]) )"
   ]
  },
  {
   "cell_type": "code",
   "execution_count": 101,
   "id": "437eeda4-502c-403c-a763-ef26d5f2820e",
   "metadata": {},
   "outputs": [
    {
     "name": "stdout",
     "output_type": "stream",
     "text": [
      "True\n",
      "True\n",
      "False\n"
     ]
    }
   ],
   "source": [
    "'''#136Q Create a function that validates whether three given integers form a Pythagorean\n",
    " triplet. The sum of the squares of the two smallest integers must equal the square of\n",
    " the largest number to be validated'''\n",
    "def is_triple(a,b,c):\n",
    "    sorted_nums = sorted([a,b,c])\n",
    "    return  sum([sorted_nums[0]**2+sorted_nums[1] **2]) == sorted_nums[2] ** 2\n",
    "print(is_triple(3,4,5))\n",
    "print(is_triple(13,5,12))\n",
    "print(is_triple(1,2,3))"
   ]
  },
  {
   "cell_type": "code",
   "execution_count": 103,
   "id": "08d7fe41-79c1-4d2e-ad8c-77f5b8fffddb",
   "metadata": {},
   "outputs": [
    {
     "name": "stdout",
     "output_type": "stream",
     "text": [
      "2\n",
      "3\n",
      "0\n"
     ]
    }
   ],
   "source": [
    "#137Q Create a function that takes three integer arguments (a, b, c) and returns the amount of integers which are of equal value\n",
    "def equal(a,b,c):\n",
    "    if a == b == c:\n",
    "        return 3\n",
    "    elif a==b or c==a or b==c:\n",
    "        return 2\n",
    "    else:\n",
    "        return 0\n",
    "print(equal(3,4,3))\n",
    "print(equal(1,1,1))\n",
    "print(equal(3,4,1))"
   ]
  },
  {
   "cell_type": "code",
   "execution_count": 109,
   "id": "6fdc594f-a762-4461-8d67-2e242bdff8d0",
   "metadata": {},
   "outputs": [
    {
     "name": "stdout",
     "output_type": "stream",
     "text": [
      "[('dislikes', 3), ('followers', 10), ('likes', 2)]\n",
      "[('A', 2), ('B', 3), ('C', 10)]\n"
     ]
    }
   ],
   "source": [
    "#138Q Write a function that converts a dictionary into a list of keys-values tuples\n",
    "def dict_to_list(input_dict):\n",
    "    sorted_dict =  sorted(input_dict.items())\n",
    "    return [(key,value) for key,value in sorted_dict]\n",
    "    \n",
    "print( dict_to_list({\n",
    " \"likes\": 2,\n",
    " \"dislikes\": 3,\n",
    " \"followers\": 10\n",
    " }) )\n",
    "print( dict_to_list({\n",
    " \"A\": 2,\n",
    " \"B\": 3,\n",
    " \"C\": 10\n",
    " }) )"
   ]
  },
  {
   "cell_type": "code",
   "execution_count": 110,
   "id": "4b890835-241e-4510-8fa8-1433e144a4a1",
   "metadata": {},
   "outputs": [
    {
     "name": "stdout",
     "output_type": "stream",
     "text": [
      "{'a': 'A', 'b': 'B', 'c': 'C'}\n",
      "{'a': 'A', 'v': 'V', 'y': 'Y', 'z': 'Z'}\n"
     ]
    }
   ],
   "source": [
    "'''#139Q Write a function that creates a dictionary with each (key, value) pair being the (lower\n",
    " case, upper case) versions of a letter, respectively '''\n",
    "def mapping(letters):\n",
    "    res_dict = {}\n",
    "    for word in letters:\n",
    "        res_dict[word] = word.capitalize()\n",
    "    return res_dict        \n",
    "print( mapping([\"a\", \"b\", \"c\"]))\n",
    "print(mapping([\"a\", \"v\", \"y\", \"z\"]))"
   ]
  },
  {
   "cell_type": "code",
   "execution_count": 112,
   "id": "e64b27ae-212c-4557-9089-827dd2a37c4c",
   "metadata": {},
   "outputs": [
    {
     "name": "stdout",
     "output_type": "stream",
     "text": [
      "upplus und bununus\n",
      "chooso cossorolo\n",
      "steffed jelepene peppers\n"
     ]
    }
   ],
   "source": [
    "#140Q Write a function, that replaces all vowels in a string with a specified vowel\n",
    "def vow_replace(string,vowel):\n",
    "    vowels = \"aeiouAEIOU\"\n",
    "    result=\"\"\n",
    "    for ele in string:\n",
    "        if ele in vowels:\n",
    "            result +=vowel\n",
    "        else:\n",
    "            result += ele\n",
    "    return result\n",
    "   \n",
    "print(vow_replace(\"apples and bananas\", \"u\")) \n",
    "print(vow_replace(\"cheese casserole\", \"o\") )\n",
    "print(vow_replace(\"stuffed jalapeno poppers\", \"e\")) \n",
    "\n",
    " "
   ]
  },
  {
   "cell_type": "code",
   "execution_count": 114,
   "id": "c4107dd4-a919-4a4e-acdb-76f76697c986",
   "metadata": {},
   "outputs": [
    {
     "name": "stdout",
     "output_type": "stream",
     "text": [
      "To Be oR NoT To Be!\n",
      "THE LITTLE MERMAID\n",
      "OH wHaT a BeauTiFuL moRNiNg.\n"
     ]
    }
   ],
   "source": [
    "'''#141Q  Create a function that takes a string as input and capitalizes a letter if its ASCII code\n",
    " is even and returns its lower case version if its ASCII code is odd.'''\n",
    "def ascii_capitalize(string):\n",
    "    result =\"\"\n",
    "    for ele in string:\n",
    "        if ord(ele) %2 == 0:\n",
    "            result += ele.capitalize()\n",
    "        else:\n",
    "            result += ele\n",
    "    return result\n",
    "print(ascii_capitalize(\"to be or not to be!\"))\n",
    "print(ascii_capitalize(\"THE LITTLE MERMAID\"))\n",
    "print(ascii_capitalize(\"Oh what a beautiful morning.\"))"
   ]
  },
  {
   "cell_type": "code",
   "execution_count": null,
   "id": "dcaee0cb-274f-4c8b-aecf-f5794d7f9030",
   "metadata": {},
   "outputs": [],
   "source": []
  }
 ],
 "metadata": {
  "kernelspec": {
   "display_name": "Python 3 (ipykernel)",
   "language": "python",
   "name": "python3"
  },
  "language_info": {
   "codemirror_mode": {
    "name": "ipython",
    "version": 3
   },
   "file_extension": ".py",
   "mimetype": "text/x-python",
   "name": "python",
   "nbconvert_exporter": "python",
   "pygments_lexer": "ipython3",
   "version": "3.12.7"
  }
 },
 "nbformat": 4,
 "nbformat_minor": 5
}
